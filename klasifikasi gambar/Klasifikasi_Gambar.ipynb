{
  "nbformat": 4,
  "nbformat_minor": 0,
  "metadata": {
    "colab": {
      "provenance": [],
      "gpuType": "T4"
    },
    "kernelspec": {
      "name": "python3",
      "display_name": "Python 3"
    },
    "language_info": {
      "name": "python"
    },
    "accelerator": "GPU"
  },
  "cells": [
    {
      "cell_type": "markdown",
      "source": [
        "# import library & Package\n"
      ],
      "metadata": {
        "id": "DEdJYvhp1KIk"
      }
    },
    {
      "cell_type": "code",
      "source": [
        "!pip install tensorflowjs\n"
      ],
      "metadata": {
        "colab": {
          "base_uri": "https://localhost:8080/"
        },
        "id": "YT8h6erpyqqm",
        "outputId": "b185cf9b-2aec-4c94-fe96-ec72ea27cd2a"
      },
      "execution_count": 1,
      "outputs": [
        {
          "output_type": "stream",
          "name": "stdout",
          "text": [
            "Collecting tensorflowjs\n",
            "  Downloading tensorflowjs-4.22.0-py3-none-any.whl.metadata (3.2 kB)\n",
            "Requirement already satisfied: flax>=0.7.2 in /usr/local/lib/python3.11/dist-packages (from tensorflowjs) (0.10.4)\n",
            "Requirement already satisfied: importlib_resources>=5.9.0 in /usr/local/lib/python3.11/dist-packages (from tensorflowjs) (6.5.2)\n",
            "Requirement already satisfied: jax>=0.4.13 in /usr/local/lib/python3.11/dist-packages (from tensorflowjs) (0.4.33)\n",
            "Requirement already satisfied: jaxlib>=0.4.13 in /usr/local/lib/python3.11/dist-packages (from tensorflowjs) (0.4.33)\n",
            "Requirement already satisfied: tensorflow<3,>=2.13.0 in /usr/local/lib/python3.11/dist-packages (from tensorflowjs) (2.18.0)\n",
            "Requirement already satisfied: tf-keras>=2.13.0 in /usr/local/lib/python3.11/dist-packages (from tensorflowjs) (2.18.0)\n",
            "Collecting tensorflow-decision-forests>=1.5.0 (from tensorflowjs)\n",
            "  Downloading tensorflow_decision_forests-1.12.0-cp311-cp311-manylinux_2_17_x86_64.manylinux2014_x86_64.whl.metadata (6.3 kB)\n",
            "Requirement already satisfied: six<2,>=1.16.0 in /usr/local/lib/python3.11/dist-packages (from tensorflowjs) (1.17.0)\n",
            "Requirement already satisfied: tensorflow-hub>=0.16.1 in /usr/local/lib/python3.11/dist-packages (from tensorflowjs) (0.16.1)\n",
            "Collecting packaging~=23.1 (from tensorflowjs)\n",
            "  Downloading packaging-23.2-py3-none-any.whl.metadata (3.2 kB)\n",
            "Requirement already satisfied: numpy>=1.23.2 in /usr/local/lib/python3.11/dist-packages (from flax>=0.7.2->tensorflowjs) (1.26.4)\n",
            "Requirement already satisfied: msgpack in /usr/local/lib/python3.11/dist-packages (from flax>=0.7.2->tensorflowjs) (1.1.0)\n",
            "Requirement already satisfied: optax in /usr/local/lib/python3.11/dist-packages (from flax>=0.7.2->tensorflowjs) (0.2.4)\n",
            "Requirement already satisfied: orbax-checkpoint in /usr/local/lib/python3.11/dist-packages (from flax>=0.7.2->tensorflowjs) (0.6.4)\n",
            "Requirement already satisfied: tensorstore in /usr/local/lib/python3.11/dist-packages (from flax>=0.7.2->tensorflowjs) (0.1.72)\n",
            "Requirement already satisfied: rich>=11.1 in /usr/local/lib/python3.11/dist-packages (from flax>=0.7.2->tensorflowjs) (13.9.4)\n",
            "Requirement already satisfied: typing_extensions>=4.2 in /usr/local/lib/python3.11/dist-packages (from flax>=0.7.2->tensorflowjs) (4.12.2)\n",
            "Requirement already satisfied: PyYAML>=5.4.1 in /usr/local/lib/python3.11/dist-packages (from flax>=0.7.2->tensorflowjs) (6.0.2)\n",
            "Requirement already satisfied: treescope>=0.1.7 in /usr/local/lib/python3.11/dist-packages (from flax>=0.7.2->tensorflowjs) (0.1.9)\n",
            "Requirement already satisfied: ml-dtypes>=0.2.0 in /usr/local/lib/python3.11/dist-packages (from jax>=0.4.13->tensorflowjs) (0.4.1)\n",
            "Requirement already satisfied: opt-einsum in /usr/local/lib/python3.11/dist-packages (from jax>=0.4.13->tensorflowjs) (3.4.0)\n",
            "Requirement already satisfied: scipy>=1.10 in /usr/local/lib/python3.11/dist-packages (from jax>=0.4.13->tensorflowjs) (1.13.1)\n",
            "Requirement already satisfied: absl-py>=1.0.0 in /usr/local/lib/python3.11/dist-packages (from tensorflow<3,>=2.13.0->tensorflowjs) (1.4.0)\n",
            "Requirement already satisfied: astunparse>=1.6.0 in /usr/local/lib/python3.11/dist-packages (from tensorflow<3,>=2.13.0->tensorflowjs) (1.6.3)\n",
            "Requirement already satisfied: flatbuffers>=24.3.25 in /usr/local/lib/python3.11/dist-packages (from tensorflow<3,>=2.13.0->tensorflowjs) (25.2.10)\n",
            "Requirement already satisfied: gast!=0.5.0,!=0.5.1,!=0.5.2,>=0.2.1 in /usr/local/lib/python3.11/dist-packages (from tensorflow<3,>=2.13.0->tensorflowjs) (0.6.0)\n",
            "Requirement already satisfied: google-pasta>=0.1.1 in /usr/local/lib/python3.11/dist-packages (from tensorflow<3,>=2.13.0->tensorflowjs) (0.2.0)\n",
            "Requirement already satisfied: libclang>=13.0.0 in /usr/local/lib/python3.11/dist-packages (from tensorflow<3,>=2.13.0->tensorflowjs) (18.1.1)\n",
            "Requirement already satisfied: protobuf!=4.21.0,!=4.21.1,!=4.21.2,!=4.21.3,!=4.21.4,!=4.21.5,<6.0.0dev,>=3.20.3 in /usr/local/lib/python3.11/dist-packages (from tensorflow<3,>=2.13.0->tensorflowjs) (4.25.6)\n",
            "Requirement already satisfied: requests<3,>=2.21.0 in /usr/local/lib/python3.11/dist-packages (from tensorflow<3,>=2.13.0->tensorflowjs) (2.32.3)\n",
            "Requirement already satisfied: setuptools in /usr/local/lib/python3.11/dist-packages (from tensorflow<3,>=2.13.0->tensorflowjs) (75.1.0)\n",
            "Requirement already satisfied: termcolor>=1.1.0 in /usr/local/lib/python3.11/dist-packages (from tensorflow<3,>=2.13.0->tensorflowjs) (2.5.0)\n",
            "Requirement already satisfied: wrapt>=1.11.0 in /usr/local/lib/python3.11/dist-packages (from tensorflow<3,>=2.13.0->tensorflowjs) (1.17.2)\n",
            "Requirement already satisfied: grpcio<2.0,>=1.24.3 in /usr/local/lib/python3.11/dist-packages (from tensorflow<3,>=2.13.0->tensorflowjs) (1.70.0)\n",
            "Requirement already satisfied: tensorboard<2.19,>=2.18 in /usr/local/lib/python3.11/dist-packages (from tensorflow<3,>=2.13.0->tensorflowjs) (2.18.0)\n",
            "Requirement already satisfied: keras>=3.5.0 in /usr/local/lib/python3.11/dist-packages (from tensorflow<3,>=2.13.0->tensorflowjs) (3.8.0)\n",
            "Requirement already satisfied: h5py>=3.11.0 in /usr/local/lib/python3.11/dist-packages (from tensorflow<3,>=2.13.0->tensorflowjs) (3.12.1)\n",
            "Requirement already satisfied: tensorflow-io-gcs-filesystem>=0.23.1 in /usr/local/lib/python3.11/dist-packages (from tensorflow<3,>=2.13.0->tensorflowjs) (0.37.1)\n",
            "Requirement already satisfied: pandas in /usr/local/lib/python3.11/dist-packages (from tensorflow-decision-forests>=1.5.0->tensorflowjs) (2.2.2)\n",
            "Collecting tensorflow<3,>=2.13.0 (from tensorflowjs)\n",
            "  Downloading tensorflow-2.19.0-cp311-cp311-manylinux_2_17_x86_64.manylinux2014_x86_64.whl.metadata (4.1 kB)\n",
            "Requirement already satisfied: wheel in /usr/local/lib/python3.11/dist-packages (from tensorflow-decision-forests>=1.5.0->tensorflowjs) (0.45.1)\n",
            "Collecting wurlitzer (from tensorflow-decision-forests>=1.5.0->tensorflowjs)\n",
            "  Downloading wurlitzer-3.1.1-py3-none-any.whl.metadata (2.5 kB)\n",
            "Collecting tf-keras>=2.13.0 (from tensorflowjs)\n",
            "  Downloading tf_keras-2.19.0-py3-none-any.whl.metadata (1.8 kB)\n",
            "Collecting ydf>=0.11.0 (from tensorflow-decision-forests>=1.5.0->tensorflowjs)\n",
            "  Downloading ydf-0.11.0-cp311-cp311-manylinux_2_17_x86_64.manylinux2014_x86_64.whl.metadata (3.5 kB)\n",
            "Collecting tensorboard~=2.19.0 (from tensorflow<3,>=2.13.0->tensorflowjs)\n",
            "  Downloading tensorboard-2.19.0-py3-none-any.whl.metadata (1.8 kB)\n",
            "Collecting ml-dtypes>=0.2.0 (from jax>=0.4.13->tensorflowjs)\n",
            "  Downloading ml_dtypes-0.5.1-cp311-cp311-manylinux_2_17_x86_64.manylinux2014_x86_64.whl.metadata (21 kB)\n",
            "Requirement already satisfied: namex in /usr/local/lib/python3.11/dist-packages (from keras>=3.5.0->tensorflow<3,>=2.13.0->tensorflowjs) (0.0.8)\n",
            "Requirement already satisfied: optree in /usr/local/lib/python3.11/dist-packages (from keras>=3.5.0->tensorflow<3,>=2.13.0->tensorflowjs) (0.14.1)\n",
            "Requirement already satisfied: charset-normalizer<4,>=2 in /usr/local/lib/python3.11/dist-packages (from requests<3,>=2.21.0->tensorflow<3,>=2.13.0->tensorflowjs) (3.4.1)\n",
            "Requirement already satisfied: idna<4,>=2.5 in /usr/local/lib/python3.11/dist-packages (from requests<3,>=2.21.0->tensorflow<3,>=2.13.0->tensorflowjs) (3.10)\n",
            "Requirement already satisfied: urllib3<3,>=1.21.1 in /usr/local/lib/python3.11/dist-packages (from requests<3,>=2.21.0->tensorflow<3,>=2.13.0->tensorflowjs) (2.3.0)\n",
            "Requirement already satisfied: certifi>=2017.4.17 in /usr/local/lib/python3.11/dist-packages (from requests<3,>=2.21.0->tensorflow<3,>=2.13.0->tensorflowjs) (2025.1.31)\n",
            "Requirement already satisfied: markdown-it-py>=2.2.0 in /usr/local/lib/python3.11/dist-packages (from rich>=11.1->flax>=0.7.2->tensorflowjs) (3.0.0)\n",
            "Requirement already satisfied: pygments<3.0.0,>=2.13.0 in /usr/local/lib/python3.11/dist-packages (from rich>=11.1->flax>=0.7.2->tensorflowjs) (2.18.0)\n",
            "Requirement already satisfied: markdown>=2.6.8 in /usr/local/lib/python3.11/dist-packages (from tensorboard~=2.19.0->tensorflow<3,>=2.13.0->tensorflowjs) (3.7)\n",
            "Requirement already satisfied: tensorboard-data-server<0.8.0,>=0.7.0 in /usr/local/lib/python3.11/dist-packages (from tensorboard~=2.19.0->tensorflow<3,>=2.13.0->tensorflowjs) (0.7.2)\n",
            "Requirement already satisfied: werkzeug>=1.0.1 in /usr/local/lib/python3.11/dist-packages (from tensorboard~=2.19.0->tensorflow<3,>=2.13.0->tensorflowjs) (3.1.3)\n",
            "Collecting protobuf!=4.21.0,!=4.21.1,!=4.21.2,!=4.21.3,!=4.21.4,!=4.21.5,<6.0.0dev,>=3.20.3 (from tensorflow<3,>=2.13.0->tensorflowjs)\n",
            "  Downloading protobuf-5.29.4-cp38-abi3-manylinux2014_x86_64.whl.metadata (592 bytes)\n",
            "Requirement already satisfied: chex>=0.1.87 in /usr/local/lib/python3.11/dist-packages (from optax->flax>=0.7.2->tensorflowjs) (0.1.89)\n",
            "Requirement already satisfied: etils[epy] in /usr/local/lib/python3.11/dist-packages (from optax->flax>=0.7.2->tensorflowjs) (1.12.0)\n",
            "Requirement already satisfied: nest_asyncio in /usr/local/lib/python3.11/dist-packages (from orbax-checkpoint->flax>=0.7.2->tensorflowjs) (1.6.0)\n",
            "Requirement already satisfied: humanize in /usr/local/lib/python3.11/dist-packages (from orbax-checkpoint->flax>=0.7.2->tensorflowjs) (4.11.0)\n",
            "Requirement already satisfied: python-dateutil>=2.8.2 in /usr/local/lib/python3.11/dist-packages (from pandas->tensorflow-decision-forests>=1.5.0->tensorflowjs) (2.8.2)\n",
            "Requirement already satisfied: pytz>=2020.1 in /usr/local/lib/python3.11/dist-packages (from pandas->tensorflow-decision-forests>=1.5.0->tensorflowjs) (2025.1)\n",
            "Requirement already satisfied: tzdata>=2022.7 in /usr/local/lib/python3.11/dist-packages (from pandas->tensorflow-decision-forests>=1.5.0->tensorflowjs) (2025.1)\n",
            "Requirement already satisfied: toolz>=0.9.0 in /usr/local/lib/python3.11/dist-packages (from chex>=0.1.87->optax->flax>=0.7.2->tensorflowjs) (0.12.1)\n",
            "Requirement already satisfied: mdurl~=0.1 in /usr/local/lib/python3.11/dist-packages (from markdown-it-py>=2.2.0->rich>=11.1->flax>=0.7.2->tensorflowjs) (0.1.2)\n",
            "Requirement already satisfied: MarkupSafe>=2.1.1 in /usr/local/lib/python3.11/dist-packages (from werkzeug>=1.0.1->tensorboard~=2.19.0->tensorflow<3,>=2.13.0->tensorflowjs) (3.0.2)\n",
            "Requirement already satisfied: fsspec in /usr/local/lib/python3.11/dist-packages (from etils[epath,epy]->orbax-checkpoint->flax>=0.7.2->tensorflowjs) (2024.10.0)\n",
            "Requirement already satisfied: zipp in /usr/local/lib/python3.11/dist-packages (from etils[epath,epy]->orbax-checkpoint->flax>=0.7.2->tensorflowjs) (3.21.0)\n",
            "Downloading tensorflowjs-4.22.0-py3-none-any.whl (89 kB)\n",
            "\u001b[2K   \u001b[90m━━━━━━━━━━━━━━━━━━━━━━━━━━━━━━━━━━━━━━━━\u001b[0m \u001b[32m89.1/89.1 kB\u001b[0m \u001b[31m5.3 MB/s\u001b[0m eta \u001b[36m0:00:00\u001b[0m\n",
            "\u001b[?25hDownloading packaging-23.2-py3-none-any.whl (53 kB)\n",
            "\u001b[2K   \u001b[90m━━━━━━━━━━━━━━━━━━━━━━━━━━━━━━━━━━━━━━━━\u001b[0m \u001b[32m53.0/53.0 kB\u001b[0m \u001b[31m5.1 MB/s\u001b[0m eta \u001b[36m0:00:00\u001b[0m\n",
            "\u001b[?25hDownloading tensorflow_decision_forests-1.12.0-cp311-cp311-manylinux_2_17_x86_64.manylinux2014_x86_64.whl (16.1 MB)\n",
            "\u001b[2K   \u001b[90m━━━━━━━━━━━━━━━━━━━━━━━━━━━━━━━━━━━━━━━━\u001b[0m \u001b[32m16.1/16.1 MB\u001b[0m \u001b[31m96.9 MB/s\u001b[0m eta \u001b[36m0:00:00\u001b[0m\n",
            "\u001b[?25hDownloading tensorflow-2.19.0-cp311-cp311-manylinux_2_17_x86_64.manylinux2014_x86_64.whl (644.9 MB)\n",
            "\u001b[2K   \u001b[90m━━━━━━━━━━━━━━━━━━━━━━━━━━━━━━━━━━━━━━━━\u001b[0m \u001b[32m644.9/644.9 MB\u001b[0m \u001b[31m3.0 MB/s\u001b[0m eta \u001b[36m0:00:00\u001b[0m\n",
            "\u001b[?25hDownloading tf_keras-2.19.0-py3-none-any.whl (1.7 MB)\n",
            "\u001b[2K   \u001b[90m━━━━━━━━━━━━━━━━━━━━━━━━━━━━━━━━━━━━━━━━\u001b[0m \u001b[32m1.7/1.7 MB\u001b[0m \u001b[31m64.2 MB/s\u001b[0m eta \u001b[36m0:00:00\u001b[0m\n",
            "\u001b[?25hDownloading ml_dtypes-0.5.1-cp311-cp311-manylinux_2_17_x86_64.manylinux2014_x86_64.whl (4.7 MB)\n",
            "\u001b[2K   \u001b[90m━━━━━━━━━━━━━━━━━━━━━━━━━━━━━━━━━━━━━━━━\u001b[0m \u001b[32m4.7/4.7 MB\u001b[0m \u001b[31m71.2 MB/s\u001b[0m eta \u001b[36m0:00:00\u001b[0m\n",
            "\u001b[?25hDownloading tensorboard-2.19.0-py3-none-any.whl (5.5 MB)\n",
            "\u001b[2K   \u001b[90m━━━━━━━━━━━━━━━━━━━━━━━━━━━━━━━━━━━━━━━━\u001b[0m \u001b[32m5.5/5.5 MB\u001b[0m \u001b[31m71.7 MB/s\u001b[0m eta \u001b[36m0:00:00\u001b[0m\n",
            "\u001b[?25hDownloading ydf-0.11.0-cp311-cp311-manylinux_2_17_x86_64.manylinux2014_x86_64.whl (12.0 MB)\n",
            "\u001b[2K   \u001b[90m━━━━━━━━━━━━━━━━━━━━━━━━━━━━━━━━━━━━━━━━\u001b[0m \u001b[32m12.0/12.0 MB\u001b[0m \u001b[31m74.7 MB/s\u001b[0m eta \u001b[36m0:00:00\u001b[0m\n",
            "\u001b[?25hDownloading protobuf-5.29.4-cp38-abi3-manylinux2014_x86_64.whl (319 kB)\n",
            "\u001b[2K   \u001b[90m━━━━━━━━━━━━━━━━━━━━━━━━━━━━━━━━━━━━━━━━\u001b[0m \u001b[32m319.7/319.7 kB\u001b[0m \u001b[31m27.8 MB/s\u001b[0m eta \u001b[36m0:00:00\u001b[0m\n",
            "\u001b[?25hDownloading wurlitzer-3.1.1-py3-none-any.whl (8.6 kB)\n",
            "Installing collected packages: wurlitzer, protobuf, packaging, ml-dtypes, ydf, tensorboard, tensorflow, tf-keras, tensorflow-decision-forests, tensorflowjs\n",
            "  Attempting uninstall: protobuf\n",
            "    Found existing installation: protobuf 4.25.6\n",
            "    Uninstalling protobuf-4.25.6:\n",
            "      Successfully uninstalled protobuf-4.25.6\n",
            "  Attempting uninstall: packaging\n",
            "    Found existing installation: packaging 24.2\n",
            "    Uninstalling packaging-24.2:\n",
            "      Successfully uninstalled packaging-24.2\n",
            "  Attempting uninstall: ml-dtypes\n",
            "    Found existing installation: ml-dtypes 0.4.1\n",
            "    Uninstalling ml-dtypes-0.4.1:\n",
            "      Successfully uninstalled ml-dtypes-0.4.1\n",
            "  Attempting uninstall: tensorboard\n",
            "    Found existing installation: tensorboard 2.18.0\n",
            "    Uninstalling tensorboard-2.18.0:\n",
            "      Successfully uninstalled tensorboard-2.18.0\n",
            "  Attempting uninstall: tensorflow\n",
            "    Found existing installation: tensorflow 2.18.0\n",
            "    Uninstalling tensorflow-2.18.0:\n",
            "      Successfully uninstalled tensorflow-2.18.0\n",
            "  Attempting uninstall: tf-keras\n",
            "    Found existing installation: tf_keras 2.18.0\n",
            "    Uninstalling tf_keras-2.18.0:\n",
            "      Successfully uninstalled tf_keras-2.18.0\n",
            "\u001b[31mERROR: pip's dependency resolver does not currently take into account all the packages that are installed. This behaviour is the source of the following dependency conflicts.\n",
            "tensorflow-text 2.18.1 requires tensorflow<2.19,>=2.18.0, but you have tensorflow 2.19.0 which is incompatible.\u001b[0m\u001b[31m\n",
            "\u001b[0mSuccessfully installed ml-dtypes-0.5.1 packaging-23.2 protobuf-5.29.4 tensorboard-2.19.0 tensorflow-2.19.0 tensorflow-decision-forests-1.12.0 tensorflowjs-4.22.0 tf-keras-2.19.0 wurlitzer-3.1.1 ydf-0.11.0\n"
          ]
        }
      ]
    },
    {
      "cell_type": "code",
      "execution_count": 2,
      "metadata": {
        "id": "S5AMmksHNDAq",
        "colab": {
          "base_uri": "https://localhost:8080/",
          "height": 166
        },
        "outputId": "85fc0944-56e9-4c07-825b-535acccd0a8a"
      },
      "outputs": [
        {
          "output_type": "display_data",
          "data": {
            "text/plain": [
              "<IPython.core.display.HTML object>"
            ],
            "text/html": [
              "\n",
              "<p style=\"margin:0px;\">🌲 Try <a href=\"https://ydf.readthedocs.io/en/latest/\" target=\"_blank\">YDF</a>, the successor of\n",
              "    <a href=\"https://www.tensorflow.org/decision_forests\" target=\"_blank\">TensorFlow\n",
              "        Decision Forests</a> using the same algorithms but with more features and faster\n",
              "    training!\n",
              "</p>\n",
              "<div style=\"display: flex; flex-wrap: wrap; margin:5px;max-width: 880px;\">\n",
              "    <div style=\"flex: 1; border-radius: 10px; background-color: F0F0F0; padding: 5px;\">\n",
              "        <p\n",
              "            style=\"font-weight: bold; margin:0px;text-align: center;border-bottom: 1px solid #C0C0C0;margin-bottom: 4px;\">\n",
              "            Old code</p>\n",
              "        <pre style=\"overflow-wrap: anywhere; overflow: auto; margin:0px;font-size: 9pt;\">\n",
              "import tensorflow_decision_forests as tfdf\n",
              "\n",
              "tf_ds = tfdf.keras.pd_dataframe_to_tf_dataset(ds, label=\"l\")\n",
              "model = tfdf.keras.RandomForestModel(label=\"l\")\n",
              "model.fit(tf_ds)\n",
              "</pre>\n",
              "    </div>\n",
              "    <div style=\"width: 5px;\"></div>\n",
              "    <div style=\"flex: 1; border-radius: 10px; background-color: F0F0F0; padding: 5px;\">\n",
              "        <p\n",
              "            style=\"font-weight: bold; margin:0px;text-align: center;border-bottom: 1px solid #C0C0C0;margin-bottom: 4px;\">\n",
              "            New code</p>\n",
              "        <pre style=\"overflow-wrap: anywhere; overflow: auto; margin:0px;font-size: 9pt;\">\n",
              "import ydf\n",
              "\n",
              "model = ydf.RandomForestLearner(label=\"l\").train(ds)\n",
              "</pre>\n",
              "    </div>\n",
              "</div>\n",
              "<p style=\"margin:0px;font-size: 9pt;\">(Learn more in the <a\n",
              "        href=\"https://ydf.readthedocs.io/en/latest/tutorial/migrating_to_ydf/\" target=\"_blank\">migration\n",
              "        guide</a>)</p>\n"
            ]
          },
          "metadata": {}
        }
      ],
      "source": [
        "import numpy as np\n",
        "import tensorflow as tf\n",
        "from tensorflow.keras.preprocessing.image import ImageDataGenerator, img_to_array, load_img, array_to_img\n",
        "from tensorflow.keras.optimizers import Adam,RMSprop,SGD\n",
        "from tensorflow.keras.layers import Conv2D, MaxPooling2D, Flatten, Dense, Dropout, BatchNormalization, LeakyReLU\n",
        "from tensorflow.keras.models import Sequential\n",
        "from tensorflow.keras.metrics import Recall, Precision\n",
        "from tensorflow.keras.callbacks import EarlyStopping, ModelCheckpoint\n",
        "from tensorflow.keras.regularizers import l2\n",
        "import cv2\n",
        "import shutil\n",
        "import random\n",
        "import matplotlib.pyplot as plt\n",
        "from torchvision import transforms\n",
        "from PIL import ImageEnhance, Image\n",
        "from collections import Counter\n",
        "from tqdm import tqdm\n",
        "import os\n",
        "from tensorflow.keras.callbacks import ReduceLROnPlateau\n",
        "import tensorflowjs as tfjs"
      ]
    },
    {
      "cell_type": "code",
      "source": [
        "import warnings\n",
        "warnings.simplefilter(action='ignore', category=FutureWarning)"
      ],
      "metadata": {
        "id": "e9TKXyoJNJTV"
      },
      "execution_count": 3,
      "outputs": []
    },
    {
      "cell_type": "markdown",
      "source": [
        "#import library & Package\n"
      ],
      "metadata": {
        "id": "qTpKHBb91PAD"
      }
    },
    {
      "cell_type": "code",
      "source": [
        "from google.colab import drive\n",
        "drive.mount('/content/drive')\n",
        "\n",
        "zip_path = '/content/drive/MyDrive/dataset_bunga.zip'\n",
        "\n",
        "!unzip -q \"/content/drive/MyDrive/dataset_bunga.zip\" -d \"/content/\""
      ],
      "metadata": {
        "colab": {
          "base_uri": "https://localhost:8080/"
        },
        "id": "jNCcIu1ZNLu7",
        "outputId": "7787594d-a6db-4e28-a441-dee44b54a7ab"
      },
      "execution_count": 4,
      "outputs": [
        {
          "output_type": "stream",
          "name": "stdout",
          "text": [
            "Mounted at /content/drive\n"
          ]
        }
      ]
    },
    {
      "cell_type": "markdown",
      "source": [
        "# Pra-Pemrosesan Data Gambar"
      ],
      "metadata": {
        "id": "-oQf-8GF1U8D"
      }
    },
    {
      "cell_type": "markdown",
      "source": [
        "## Resolusi Data Gambar"
      ],
      "metadata": {
        "id": "y1Z7EhgX1Y0j"
      }
    },
    {
      "cell_type": "code",
      "source": [
        "dataset_path = '/content/flower_images'\n",
        "resolutions = []\n",
        "\n",
        "for root, dirs, files in os.walk(dataset_path):\n",
        "    for file in files:\n",
        "        if file.endswith(('.jpg', '.jpeg', '.png')):\n",
        "            try:\n",
        "                img_path = os.path.join(root, file)\n",
        "                img = Image.open(img_path)\n",
        "                resolutions.append(img.size)\n",
        "            except:\n",
        "                continue\n",
        "\n",
        "#hitung & menampilkan ukuran yang paling umum\n",
        "res_counter = Counter(resolutions)\n",
        "print(\"Top 10 resolusi gambar yang ditemukan:\")\n",
        "print(res_counter.most_common(10))\n",
        "\n",
        "#total variasi resolusi\n",
        "print(f\"\\nTotal variasi resolusi unik: {len(set(resolutions))}\")"
      ],
      "metadata": {
        "colab": {
          "base_uri": "https://localhost:8080/"
        },
        "id": "YvICMIQyNwx8",
        "outputId": "b4a36020-58fa-40d3-d0bc-f7ae76935582"
      },
      "execution_count": 5,
      "outputs": [
        {
          "output_type": "stream",
          "name": "stdout",
          "text": [
            "Top 10 resolusi gambar yang ditemukan:\n",
            "[((275, 183), 573), ((225, 225), 375), ((300, 168), 189), ((183, 275), 152), ((284, 177), 144), ((259, 194), 125), ((168, 300), 64), ((276, 183), 58), ((194, 259), 55), ((612, 408), 55)]\n",
            "\n",
            "Total variasi resolusi unik: 1380\n"
          ]
        }
      ]
    },
    {
      "cell_type": "markdown",
      "source": [
        "**Insight:**\n",
        "* dataset memiliki 1380 variasi resolusi unik, menunjukkan ukuran gambar sangat bervariasi.\n",
        "* resolusi paling umum: (275, 183) dan (225, 225).\n",
        "* Gambar terdiri dari landscape & portrait, sehingga preprocessing resize ke 180x180 sudah tepat untuk menyamakan input dan menjaga konsistensi model.\n",
        "\n",
        "\n",
        "\n"
      ],
      "metadata": {
        "id": "rzfajuV63NU7"
      }
    },
    {
      "cell_type": "markdown",
      "source": [
        "## splitting data"
      ],
      "metadata": {
        "id": "g6OvB7CK1bDT"
      }
    },
    {
      "cell_type": "code",
      "source": [
        "!pip install split-folders tqdm\n",
        "import splitfolders\n",
        "\n",
        "dataset_path = '/content/flower_images'\n",
        "output_path = '/content/flower_images_split'\n",
        "\n",
        "#split dataset\n",
        "splitfolders.ratio(dataset_path, output=output_path, seed=1337, ratio=(.8, .1, .1))"
      ],
      "metadata": {
        "colab": {
          "base_uri": "https://localhost:8080/"
        },
        "id": "vv44AjgTbVwx",
        "outputId": "51750a24-2496-42c7-d5f3-0163047d188b"
      },
      "execution_count": 6,
      "outputs": [
        {
          "output_type": "stream",
          "name": "stdout",
          "text": [
            "Collecting split-folders\n",
            "  Downloading split_folders-0.5.1-py3-none-any.whl.metadata (6.2 kB)\n",
            "Requirement already satisfied: tqdm in /usr/local/lib/python3.11/dist-packages (4.67.1)\n",
            "Downloading split_folders-0.5.1-py3-none-any.whl (8.4 kB)\n",
            "Installing collected packages: split-folders\n",
            "Successfully installed split-folders-0.5.1\n"
          ]
        },
        {
          "output_type": "stream",
          "name": "stderr",
          "text": [
            "Copying files: 5000 files [00:00, 5406.38 files/s]\n"
          ]
        }
      ]
    },
    {
      "cell_type": "markdown",
      "source": [
        "**Insight:**\n",
        "dataset telah berhasil dibagi menggunakan `splitfolders` dengan rasio **80%** untuk train, **10%** untuk validation, dan **10%** untuk test. Dari total 5000 gambar, sekitar 4000 gambar digunakan untuk pelatihan, 500 untuk validasi, dan 500 untuk pengujian. Struktur folder hasil split tersimpan di `/content/flower_images_split` dengan subfolder per kelas pada masing-masing set.\n"
      ],
      "metadata": {
        "id": "E2vDECHY3lfR"
      }
    },
    {
      "cell_type": "markdown",
      "source": [
        "## Data Cleaning"
      ],
      "metadata": {
        "id": "LZARRnP71iWF"
      }
    },
    {
      "cell_type": "code",
      "source": [
        "#untuk mengecek apakah gambar buram\n",
        "def is_blurry(image_path, threshold=100):\n",
        "    image = cv2.imread(image_path)\n",
        "    if image is None:\n",
        "        return True\n",
        "    gray = cv2.cvtColor(image, cv2.COLOR_BGR2GRAY)\n",
        "    variance = cv2.Laplacian(gray, cv2.CV_64F).var()\n",
        "    return variance < threshold\n",
        "\n",
        "#pembersihan gambar dalam folder\n",
        "def clean_directory(dir_path, threshold=100):\n",
        "    deleted_count = 0\n",
        "    for class_folder in os.listdir(dir_path):\n",
        "        class_path = os.path.join(dir_path, class_folder)\n",
        "        if not os.path.isdir(class_path):\n",
        "            continue\n",
        "        for img_name in os.listdir(class_path):\n",
        "            img_path = os.path.join(class_path, img_name)\n",
        "            try:\n",
        "                if is_blurry(img_path, threshold):\n",
        "                    os.remove(img_path)\n",
        "                    deleted_count += 1\n",
        "                    print(f\"Deleted blurry image: {img_path}\")\n",
        "            except Exception as e:\n",
        "                print(f\"Error processing {img_path}: {e}\")\n",
        "    print(f\"Total blurry images deleted from {dir_path}: {deleted_count}\")\n",
        "\n",
        "#jalankan untuk masing-masing direktori\n",
        "clean_directory('/content/flower_images_split/train')\n",
        "clean_directory('/content/flower_images_split/val')\n",
        "clean_directory('/content/flower_images_split/test')\n"
      ],
      "metadata": {
        "colab": {
          "base_uri": "https://localhost:8080/"
        },
        "id": "TA4sNllyOAi7",
        "outputId": "f968de69-5906-42e9-bc18-52a69a8cc435"
      },
      "execution_count": 7,
      "outputs": [
        {
          "output_type": "stream",
          "name": "stdout",
          "text": [
            "Deleted blurry image: /content/flower_images_split/train/Lilly/871fa68fdd.jpg\n",
            "Deleted blurry image: /content/flower_images_split/train/Lilly/301b28fabe.jpg\n",
            "Deleted blurry image: /content/flower_images_split/train/Lilly/83657b8b10.jpg\n",
            "Deleted blurry image: /content/flower_images_split/train/Lilly/f26356adc0.jpg\n",
            "Deleted blurry image: /content/flower_images_split/train/Lilly/5fe46517e0.jpg\n",
            "Deleted blurry image: /content/flower_images_split/train/Lilly/f90a1fbcb7.jpg\n",
            "Deleted blurry image: /content/flower_images_split/train/Lilly/d18735dfb4.jpg\n",
            "Deleted blurry image: /content/flower_images_split/train/Lilly/4739f59723.jpg\n",
            "Deleted blurry image: /content/flower_images_split/train/Lilly/52236b1a56.jpg\n",
            "Deleted blurry image: /content/flower_images_split/train/Lilly/80bbf7b08d.jpg\n",
            "Deleted blurry image: /content/flower_images_split/train/Lilly/844d7f05b0.jpg\n",
            "Deleted blurry image: /content/flower_images_split/train/Lilly/53815c5e4d.jpg\n",
            "Deleted blurry image: /content/flower_images_split/train/Lilly/7de8d00f08.jpg\n",
            "Deleted blurry image: /content/flower_images_split/train/Lilly/b57e85cc79.jpg\n",
            "Deleted blurry image: /content/flower_images_split/train/Lilly/75c239bad5.jpg\n",
            "Deleted blurry image: /content/flower_images_split/train/Lilly/f786f02f2a.jpg\n",
            "Deleted blurry image: /content/flower_images_split/train/Lilly/001ff6644e.jpg\n",
            "Deleted blurry image: /content/flower_images_split/train/Lilly/d196bebb51.jpg\n",
            "Deleted blurry image: /content/flower_images_split/train/Lilly/aa51f734bf.jpg\n",
            "Deleted blurry image: /content/flower_images_split/train/Lilly/9e07d58bdc.jpg\n",
            "Deleted blurry image: /content/flower_images_split/train/Lilly/33bec02458.jpg\n",
            "Deleted blurry image: /content/flower_images_split/train/Lilly/358c237692.jpg\n",
            "Deleted blurry image: /content/flower_images_split/train/Lilly/8058a2974c.jpg\n",
            "Deleted blurry image: /content/flower_images_split/train/Lilly/061b383a6f.jpg\n",
            "Deleted blurry image: /content/flower_images_split/train/Lilly/cdbb0cee02.jpg\n",
            "Deleted blurry image: /content/flower_images_split/train/Lilly/d8a9d64b73.jpg\n",
            "Deleted blurry image: /content/flower_images_split/train/Lilly/da5508dc13.jpg\n",
            "Deleted blurry image: /content/flower_images_split/train/Lilly/1b6b32faa4.jpg\n",
            "Deleted blurry image: /content/flower_images_split/train/Lilly/14a9fd92a7.jpg\n",
            "Deleted blurry image: /content/flower_images_split/train/Lilly/d4d19761df.jpg\n",
            "Deleted blurry image: /content/flower_images_split/train/Lilly/b894903992.jpg\n",
            "Deleted blurry image: /content/flower_images_split/train/Lilly/4d9072a54e.jpg\n",
            "Deleted blurry image: /content/flower_images_split/train/Lilly/6d1f4c6e16.jpg\n",
            "Deleted blurry image: /content/flower_images_split/train/Lilly/adc1a9b5df.jpg\n",
            "Deleted blurry image: /content/flower_images_split/train/Lilly/5490580148.jpg\n",
            "Deleted blurry image: /content/flower_images_split/train/Lilly/750f82f03d.jpg\n",
            "Deleted blurry image: /content/flower_images_split/train/Lilly/cfc90fb987.jpg\n",
            "Deleted blurry image: /content/flower_images_split/train/Lilly/df93b2ee08.jpg\n",
            "Deleted blurry image: /content/flower_images_split/train/Lilly/df7e315cfa.jpg\n",
            "Deleted blurry image: /content/flower_images_split/train/Lilly/fbc9c0db7b.jpg\n",
            "Deleted blurry image: /content/flower_images_split/train/Lilly/2e23773349.jpg\n",
            "Deleted blurry image: /content/flower_images_split/train/Lilly/6b4f5756a6.jpg\n",
            "Deleted blurry image: /content/flower_images_split/train/Lilly/98b24541b7.jpg\n",
            "Deleted blurry image: /content/flower_images_split/train/Lilly/590f5d7b01.jpg\n",
            "Deleted blurry image: /content/flower_images_split/train/Lilly/3ea06dd08e.jpg\n",
            "Deleted blurry image: /content/flower_images_split/train/Lilly/7ac5bb68a2.jpg\n",
            "Deleted blurry image: /content/flower_images_split/train/Lilly/80adf879e9.jpg\n",
            "Deleted blurry image: /content/flower_images_split/train/Lilly/06d90ec8dd.jpg\n",
            "Deleted blurry image: /content/flower_images_split/train/Lilly/50434d1637.jpg\n",
            "Deleted blurry image: /content/flower_images_split/train/Lilly/6234950cf2.jpg\n",
            "Deleted blurry image: /content/flower_images_split/train/Lilly/eb4fc267d4.jpg\n",
            "Deleted blurry image: /content/flower_images_split/train/Lilly/d0e57c1fb2.jpg\n",
            "Deleted blurry image: /content/flower_images_split/train/Lilly/9042aabf7a.jpg\n",
            "Deleted blurry image: /content/flower_images_split/train/Lilly/562d47941a.jpg\n",
            "Deleted blurry image: /content/flower_images_split/train/Lilly/33ae76d160.jpg\n",
            "Deleted blurry image: /content/flower_images_split/train/Lilly/aabbeb83a2.jpg\n",
            "Deleted blurry image: /content/flower_images_split/train/Lilly/9e8124b819.jpg\n",
            "Deleted blurry image: /content/flower_images_split/train/Lilly/2a2616437e.jpg\n",
            "Deleted blurry image: /content/flower_images_split/train/Lilly/f1876cdd9c.jpg\n",
            "Deleted blurry image: /content/flower_images_split/train/Lilly/9181db1ddc.jpg\n",
            "Deleted blurry image: /content/flower_images_split/train/Lilly/a109870520.jpg\n",
            "Deleted blurry image: /content/flower_images_split/train/Lilly/f9af90e875.jpg\n",
            "Deleted blurry image: /content/flower_images_split/train/Lilly/0f2d4ef658.jpg\n",
            "Deleted blurry image: /content/flower_images_split/train/Lilly/82922fc82b.jpg\n",
            "Deleted blurry image: /content/flower_images_split/train/Lilly/eeacc85ffb.jpg\n",
            "Deleted blurry image: /content/flower_images_split/train/Lilly/b8a3ac3c34.jpg\n",
            "Deleted blurry image: /content/flower_images_split/train/Lilly/d867710260.jpg\n",
            "Deleted blurry image: /content/flower_images_split/train/Lilly/dda830ea57.jpg\n",
            "Deleted blurry image: /content/flower_images_split/train/Lilly/883432a6cf.jpg\n",
            "Deleted blurry image: /content/flower_images_split/train/Lilly/78ad87f86a.jpg\n",
            "Deleted blurry image: /content/flower_images_split/train/Lilly/5857e34aba.jpg\n",
            "Deleted blurry image: /content/flower_images_split/train/Lilly/e5c38256a6.jpg\n",
            "Deleted blurry image: /content/flower_images_split/train/Lilly/93519f856f.jpg\n",
            "Deleted blurry image: /content/flower_images_split/train/Lilly/769a385b3e.jpg\n",
            "Deleted blurry image: /content/flower_images_split/train/Lilly/82cb61e4a1.jpg\n",
            "Deleted blurry image: /content/flower_images_split/train/Lilly/10c20f0c33.jpg\n",
            "Deleted blurry image: /content/flower_images_split/train/Lilly/ec0b888b41.jpg\n",
            "Deleted blurry image: /content/flower_images_split/train/Lilly/295bd95399.jpg\n",
            "Deleted blurry image: /content/flower_images_split/train/Lilly/5f35baa700.jpg\n",
            "Deleted blurry image: /content/flower_images_split/train/Lilly/8ef83e2462.jpg\n",
            "Deleted blurry image: /content/flower_images_split/train/Lilly/83ba8e1668.jpg\n",
            "Deleted blurry image: /content/flower_images_split/train/Lilly/9fda8e3303.jpg\n",
            "Deleted blurry image: /content/flower_images_split/train/Lilly/a9a440dbd6.jpg\n",
            "Deleted blurry image: /content/flower_images_split/train/Lilly/8201b963b9.jpg\n",
            "Deleted blurry image: /content/flower_images_split/train/Lilly/31eda67b8c.jpg\n",
            "Deleted blurry image: /content/flower_images_split/train/Tulip/f080401ac6.jpg\n",
            "Deleted blurry image: /content/flower_images_split/train/Tulip/00b8fd6a70.jpg\n",
            "Deleted blurry image: /content/flower_images_split/train/Tulip/79c5cc9b8d.jpg\n",
            "Deleted blurry image: /content/flower_images_split/train/Tulip/7a70262b09.jpg\n",
            "Deleted blurry image: /content/flower_images_split/train/Tulip/6ce697972d.jpg\n",
            "Deleted blurry image: /content/flower_images_split/train/Tulip/647f8d5fd2.jpg\n",
            "Deleted blurry image: /content/flower_images_split/train/Tulip/6db95a54e1.jpg\n",
            "Deleted blurry image: /content/flower_images_split/train/Tulip/a0cee27fa5.jpg\n",
            "Deleted blurry image: /content/flower_images_split/train/Tulip/8a4afe0182.jpg\n",
            "Deleted blurry image: /content/flower_images_split/train/Tulip/d61608aa3a.jpg\n",
            "Deleted blurry image: /content/flower_images_split/train/Tulip/c0a546be90.jpg\n",
            "Deleted blurry image: /content/flower_images_split/train/Tulip/c245a1c64a.jpg\n",
            "Deleted blurry image: /content/flower_images_split/train/Tulip/1cd604a35b.jpg\n",
            "Deleted blurry image: /content/flower_images_split/train/Tulip/14105e0ae9.jpg\n",
            "Deleted blurry image: /content/flower_images_split/train/Tulip/c389ae7cf4.jpg\n",
            "Deleted blurry image: /content/flower_images_split/train/Tulip/33069bebeb.jpg\n",
            "Deleted blurry image: /content/flower_images_split/train/Tulip/b1d94c94c2.jpg\n",
            "Deleted blurry image: /content/flower_images_split/train/Tulip/fbb9622c0a.jpg\n",
            "Deleted blurry image: /content/flower_images_split/train/Tulip/f8244b5cc8.jpg\n",
            "Deleted blurry image: /content/flower_images_split/train/Tulip/25324ae572.jpg\n",
            "Deleted blurry image: /content/flower_images_split/train/Tulip/beb6aeb379.jpg\n",
            "Deleted blurry image: /content/flower_images_split/train/Tulip/d5b268d92d.jpg\n",
            "Deleted blurry image: /content/flower_images_split/train/Tulip/1469356160.jpg\n",
            "Deleted blurry image: /content/flower_images_split/train/Tulip/aef58fc78c.jpg\n",
            "Deleted blurry image: /content/flower_images_split/train/Tulip/690bfae210.jpg\n",
            "Deleted blurry image: /content/flower_images_split/train/Tulip/d9087f286b.jpg\n",
            "Deleted blurry image: /content/flower_images_split/train/Tulip/5c163730bb.jpg\n",
            "Deleted blurry image: /content/flower_images_split/train/Tulip/dab259191a.jpg\n",
            "Deleted blurry image: /content/flower_images_split/train/Tulip/6384a050c3.jpg\n",
            "Deleted blurry image: /content/flower_images_split/train/Tulip/4f8af22247.jpg\n",
            "Deleted blurry image: /content/flower_images_split/train/Tulip/2698ca6e79.jpg\n",
            "Deleted blurry image: /content/flower_images_split/train/Tulip/13e49ee955.jpg\n",
            "Deleted blurry image: /content/flower_images_split/train/Tulip/af40942752.jpg\n",
            "Deleted blurry image: /content/flower_images_split/train/Tulip/e9591a3935.jpg\n",
            "Deleted blurry image: /content/flower_images_split/train/Tulip/e4720c3c74.jpg\n",
            "Deleted blurry image: /content/flower_images_split/train/Tulip/d9ef6b2e06.jpg\n",
            "Deleted blurry image: /content/flower_images_split/train/Tulip/964529ab58.jpg\n",
            "Deleted blurry image: /content/flower_images_split/train/Tulip/ecc10d2bbb.jpg\n",
            "Deleted blurry image: /content/flower_images_split/train/Tulip/25e92f28e8.jpg\n",
            "Deleted blurry image: /content/flower_images_split/train/Tulip/8aee9aec33.jpg\n",
            "Deleted blurry image: /content/flower_images_split/train/Tulip/43c187e667.jpg\n",
            "Deleted blurry image: /content/flower_images_split/train/Tulip/8566adc8a0.jpg\n",
            "Deleted blurry image: /content/flower_images_split/train/Tulip/902e8ef99f.jpg\n",
            "Deleted blurry image: /content/flower_images_split/train/Tulip/39e7fdf2aa.jpg\n",
            "Deleted blurry image: /content/flower_images_split/train/Tulip/6cb08f3227.jpg\n",
            "Deleted blurry image: /content/flower_images_split/train/Tulip/16c0b20719.jpg\n",
            "Deleted blurry image: /content/flower_images_split/train/Tulip/f4837be653.jpg\n",
            "Deleted blurry image: /content/flower_images_split/train/Tulip/aeea771dbc.jpg\n",
            "Deleted blurry image: /content/flower_images_split/train/Tulip/80fbecd217.jpg\n",
            "Deleted blurry image: /content/flower_images_split/train/Tulip/4ee030f332.jpg\n",
            "Deleted blurry image: /content/flower_images_split/train/Tulip/0c62cac3ce.jpg\n",
            "Deleted blurry image: /content/flower_images_split/train/Tulip/3d8c086aec.jpg\n",
            "Deleted blurry image: /content/flower_images_split/train/Tulip/0e6d4f1145.jpg\n",
            "Deleted blurry image: /content/flower_images_split/train/Tulip/1be91cea78.jpg\n",
            "Deleted blurry image: /content/flower_images_split/train/Tulip/404b4367ca.jpg\n",
            "Deleted blurry image: /content/flower_images_split/train/Tulip/86c8d42573.jpg\n",
            "Deleted blurry image: /content/flower_images_split/train/Tulip/d864137f0c.jpg\n",
            "Deleted blurry image: /content/flower_images_split/train/Tulip/f2b087be5d.jpg\n",
            "Deleted blurry image: /content/flower_images_split/train/Tulip/5d8a2148a3.jpg\n",
            "Deleted blurry image: /content/flower_images_split/train/Tulip/c038facc35.jpg\n",
            "Deleted blurry image: /content/flower_images_split/train/Tulip/f363b5a2a9.jpg\n",
            "Deleted blurry image: /content/flower_images_split/train/Tulip/7f1e04ffa4.jpg\n",
            "Deleted blurry image: /content/flower_images_split/train/Tulip/78aaefa650.jpg\n",
            "Deleted blurry image: /content/flower_images_split/train/Tulip/5d9acbc6ce.jpg\n",
            "Deleted blurry image: /content/flower_images_split/train/Tulip/062b6c0145.jpg\n",
            "Deleted blurry image: /content/flower_images_split/train/Tulip/1080d7efb4.jpg\n",
            "Deleted blurry image: /content/flower_images_split/train/Tulip/d87d50d2c8.jpg\n",
            "Deleted blurry image: /content/flower_images_split/train/Tulip/693572757e.jpg\n",
            "Deleted blurry image: /content/flower_images_split/train/Tulip/65bf0fe087.jpg\n",
            "Deleted blurry image: /content/flower_images_split/train/Tulip/c2212a5f8d.jpg\n",
            "Deleted blurry image: /content/flower_images_split/train/Tulip/cfdd60ad76.jpg\n",
            "Deleted blurry image: /content/flower_images_split/train/Tulip/f80ab21e05.jpg\n",
            "Deleted blurry image: /content/flower_images_split/train/Tulip/da0c9e3ecc.jpg\n",
            "Deleted blurry image: /content/flower_images_split/train/Tulip/55bdfba232.jpg\n",
            "Deleted blurry image: /content/flower_images_split/train/Tulip/8f51a637f7.jpg\n",
            "Deleted blurry image: /content/flower_images_split/train/Tulip/284a1ce8d4.jpg\n",
            "Deleted blurry image: /content/flower_images_split/train/Tulip/7b3650b5ea.jpg\n",
            "Deleted blurry image: /content/flower_images_split/train/Tulip/5734cbc946.jpg\n",
            "Deleted blurry image: /content/flower_images_split/train/Tulip/800652d9a7.jpg\n",
            "Deleted blurry image: /content/flower_images_split/train/Tulip/4b451e36ce.jpg\n",
            "Deleted blurry image: /content/flower_images_split/train/Tulip/a5e17c1e69.jpg\n",
            "Deleted blurry image: /content/flower_images_split/train/Tulip/d02b6ffe46.jpg\n",
            "Deleted blurry image: /content/flower_images_split/train/Tulip/68c76e9332.jpg\n",
            "Deleted blurry image: /content/flower_images_split/train/Tulip/2545174fd4.jpg\n",
            "Deleted blurry image: /content/flower_images_split/train/Tulip/e2beadb878.jpg\n",
            "Deleted blurry image: /content/flower_images_split/train/Tulip/e08a5bb33a.jpg\n",
            "Deleted blurry image: /content/flower_images_split/train/Tulip/307e113254.jpg\n",
            "Deleted blurry image: /content/flower_images_split/train/Tulip/0f7da9ef3e.jpg\n",
            "Deleted blurry image: /content/flower_images_split/train/Tulip/95a289a797.jpg\n",
            "Deleted blurry image: /content/flower_images_split/train/Tulip/2aacfb8737.jpg\n",
            "Deleted blurry image: /content/flower_images_split/train/Tulip/33d405a1ba.jpg\n",
            "Deleted blurry image: /content/flower_images_split/train/Tulip/4c7146a91e.jpg\n",
            "Deleted blurry image: /content/flower_images_split/train/Tulip/af720cd040.jpg\n",
            "Deleted blurry image: /content/flower_images_split/train/Tulip/42279a5572.jpg\n",
            "Deleted blurry image: /content/flower_images_split/train/Tulip/b9037b5e64.jpg\n",
            "Deleted blurry image: /content/flower_images_split/train/Lotus/fd59d80757.jpg\n",
            "Deleted blurry image: /content/flower_images_split/train/Lotus/0e436e9b09.jpg\n",
            "Deleted blurry image: /content/flower_images_split/train/Lotus/160a90eb0f.jpg\n",
            "Deleted blurry image: /content/flower_images_split/train/Lotus/a47835a90d.jpg\n",
            "Deleted blurry image: /content/flower_images_split/train/Lotus/1d9614295c.jpg\n",
            "Deleted blurry image: /content/flower_images_split/train/Lotus/f2c2421a64.jpg\n",
            "Deleted blurry image: /content/flower_images_split/train/Lotus/449b2be7b6.jpg\n",
            "Deleted blurry image: /content/flower_images_split/train/Lotus/026a5bcaa7.jpg\n",
            "Deleted blurry image: /content/flower_images_split/train/Lotus/b3c23b6ab1.jpg\n",
            "Deleted blurry image: /content/flower_images_split/train/Lotus/55b67481c5.jpg\n",
            "Deleted blurry image: /content/flower_images_split/train/Lotus/0b606f8000.jpg\n",
            "Deleted blurry image: /content/flower_images_split/train/Lotus/d698fd7de4.jpg\n",
            "Deleted blurry image: /content/flower_images_split/train/Lotus/3a1743d347.jpg\n",
            "Deleted blurry image: /content/flower_images_split/train/Lotus/57aadee37c.jpg\n",
            "Deleted blurry image: /content/flower_images_split/train/Lotus/300b7a766d.jpg\n",
            "Deleted blurry image: /content/flower_images_split/train/Lotus/397dbb9911.jpg\n",
            "Deleted blurry image: /content/flower_images_split/train/Lotus/fa4ed1169e.jpg\n",
            "Deleted blurry image: /content/flower_images_split/train/Lotus/62519b4fd1.jpg\n",
            "Deleted blurry image: /content/flower_images_split/train/Lotus/d6caf28e01.jpg\n",
            "Deleted blurry image: /content/flower_images_split/train/Lotus/e9e50f59e0.jpg\n",
            "Deleted blurry image: /content/flower_images_split/train/Lotus/bd4763b2ef.jpg\n",
            "Deleted blurry image: /content/flower_images_split/train/Lotus/cb89b575b2.jpg\n",
            "Deleted blurry image: /content/flower_images_split/train/Lotus/0ad0cd94c1.jpg\n",
            "Deleted blurry image: /content/flower_images_split/train/Lotus/224849686c.jpg\n",
            "Deleted blurry image: /content/flower_images_split/train/Lotus/7ce167f76c.jpg\n",
            "Deleted blurry image: /content/flower_images_split/train/Lotus/a37ceef87b.jpg\n",
            "Deleted blurry image: /content/flower_images_split/train/Lotus/7cac937a56.jpg\n",
            "Deleted blurry image: /content/flower_images_split/train/Lotus/bb476bc609.jpg\n",
            "Deleted blurry image: /content/flower_images_split/train/Lotus/b73bf34091.jpg\n",
            "Deleted blurry image: /content/flower_images_split/train/Lotus/093ed8029f.jpg\n",
            "Deleted blurry image: /content/flower_images_split/train/Lotus/3562159f8c.jpg\n",
            "Deleted blurry image: /content/flower_images_split/train/Lotus/b147e95f6c.jpg\n",
            "Deleted blurry image: /content/flower_images_split/train/Lotus/3e18d2ee2e.jpg\n",
            "Deleted blurry image: /content/flower_images_split/train/Lotus/eb17213ced.jpg\n",
            "Deleted blurry image: /content/flower_images_split/train/Lotus/1502e04092.jpg\n",
            "Deleted blurry image: /content/flower_images_split/train/Lotus/272936570a.jpg\n",
            "Deleted blurry image: /content/flower_images_split/train/Lotus/b849151086.jpg\n",
            "Deleted blurry image: /content/flower_images_split/train/Lotus/83353492ed.jpg\n",
            "Deleted blurry image: /content/flower_images_split/train/Lotus/914cb149ff.jpg\n",
            "Deleted blurry image: /content/flower_images_split/train/Lotus/f644407335.jpg\n",
            "Deleted blurry image: /content/flower_images_split/train/Lotus/4307bdda9a.jpg\n",
            "Deleted blurry image: /content/flower_images_split/train/Lotus/b768a0fb74.jpg\n",
            "Deleted blurry image: /content/flower_images_split/train/Lotus/12e31eda33.jpg\n",
            "Deleted blurry image: /content/flower_images_split/train/Lotus/1cecc63aa9.jpg\n",
            "Deleted blurry image: /content/flower_images_split/train/Lotus/52ae71fa07.jpg\n",
            "Deleted blurry image: /content/flower_images_split/train/Lotus/b84e899b04.jpg\n",
            "Deleted blurry image: /content/flower_images_split/train/Lotus/d45a7c17a3.jpg\n",
            "Deleted blurry image: /content/flower_images_split/train/Lotus/8b7257f8d7.jpg\n",
            "Deleted blurry image: /content/flower_images_split/train/Lotus/52ef67fc65.jpg\n",
            "Deleted blurry image: /content/flower_images_split/train/Lotus/a7b8605bba.jpg\n",
            "Deleted blurry image: /content/flower_images_split/train/Lotus/7674c2ce47.jpg\n",
            "Deleted blurry image: /content/flower_images_split/train/Lotus/27104a2044.jpg\n",
            "Deleted blurry image: /content/flower_images_split/train/Lotus/2f8ffe19d2.jpg\n",
            "Deleted blurry image: /content/flower_images_split/train/Lotus/3f1c07616a.jpg\n",
            "Deleted blurry image: /content/flower_images_split/train/Lotus/0718eba877.jpg\n",
            "Deleted blurry image: /content/flower_images_split/train/Lotus/6adc97f7c7.jpg\n",
            "Deleted blurry image: /content/flower_images_split/train/Lotus/3ea06dd08e.jpg\n",
            "Deleted blurry image: /content/flower_images_split/train/Lotus/9ccc35e230.jpg\n",
            "Deleted blurry image: /content/flower_images_split/train/Lotus/5e323ad5b5.jpg\n",
            "Deleted blurry image: /content/flower_images_split/train/Lotus/b2a66cca97.jpg\n",
            "Deleted blurry image: /content/flower_images_split/train/Lotus/f4fc5a5772.jpg\n",
            "Deleted blurry image: /content/flower_images_split/train/Lotus/e4062377b0.jpg\n",
            "Deleted blurry image: /content/flower_images_split/train/Lotus/e49ab32c7b.jpg\n",
            "Deleted blurry image: /content/flower_images_split/train/Lotus/aaaf90b2d6.jpg\n",
            "Deleted blurry image: /content/flower_images_split/train/Lotus/3a0f852e69.jpg\n",
            "Deleted blurry image: /content/flower_images_split/train/Lotus/e90a460b94.jpg\n",
            "Deleted blurry image: /content/flower_images_split/train/Lotus/2834841109.jpg\n",
            "Deleted blurry image: /content/flower_images_split/train/Lotus/c529a947b0.jpg\n",
            "Deleted blurry image: /content/flower_images_split/train/Lotus/b5d5d40ee8.jpg\n",
            "Deleted blurry image: /content/flower_images_split/train/Lotus/e6be237c65.jpg\n",
            "Deleted blurry image: /content/flower_images_split/train/Lotus/0ae6ffa4ee.jpg\n",
            "Deleted blurry image: /content/flower_images_split/train/Lotus/9a78c2c896.jpg\n",
            "Deleted blurry image: /content/flower_images_split/train/Lotus/823d624123.jpg\n",
            "Deleted blurry image: /content/flower_images_split/train/Lotus/6bcfe4987d.jpg\n",
            "Deleted blurry image: /content/flower_images_split/train/Lotus/ce5ee7ab7b.jpg\n",
            "Deleted blurry image: /content/flower_images_split/train/Lotus/118677892b.jpg\n",
            "Deleted blurry image: /content/flower_images_split/train/Lotus/715de82634.jpg\n",
            "Deleted blurry image: /content/flower_images_split/train/Lotus/3733e0605a.jpg\n",
            "Deleted blurry image: /content/flower_images_split/train/Lotus/1897734ce7.jpg\n",
            "Deleted blurry image: /content/flower_images_split/train/Lotus/57ac816e1e.jpg\n",
            "Deleted blurry image: /content/flower_images_split/train/Lotus/42fb71d2e0.jpg\n",
            "Deleted blurry image: /content/flower_images_split/train/Lotus/f9c1da198e.jpg\n",
            "Deleted blurry image: /content/flower_images_split/train/Lotus/70a8706971.jpg\n",
            "Deleted blurry image: /content/flower_images_split/train/Lotus/fcbbb6999f.jpg\n",
            "Deleted blurry image: /content/flower_images_split/train/Lotus/e595dd10a9.jpg\n",
            "Deleted blurry image: /content/flower_images_split/train/Lotus/e29c537a69.jpg\n",
            "Deleted blurry image: /content/flower_images_split/train/Lotus/ff1e033228.jpg\n",
            "Deleted blurry image: /content/flower_images_split/train/Lotus/936a126a18.jpg\n",
            "Deleted blurry image: /content/flower_images_split/train/Lotus/cf73fbc3ab.jpg\n",
            "Deleted blurry image: /content/flower_images_split/train/Lotus/f12a843b39.jpg\n",
            "Deleted blurry image: /content/flower_images_split/train/Lotus/33a40dfbfd.jpg\n",
            "Deleted blurry image: /content/flower_images_split/train/Lotus/5e592c669c.jpg\n",
            "Deleted blurry image: /content/flower_images_split/train/Lotus/0f127c677f.jpg\n",
            "Deleted blurry image: /content/flower_images_split/train/Lotus/a452438b1d.jpg\n",
            "Deleted blurry image: /content/flower_images_split/train/Lotus/45cc4204d3.jpg\n",
            "Deleted blurry image: /content/flower_images_split/train/Lotus/dda8f965b2.jpg\n",
            "Deleted blurry image: /content/flower_images_split/train/Lotus/a7747af3d2.jpg\n",
            "Deleted blurry image: /content/flower_images_split/train/Lotus/f50244bb4c.jpg\n",
            "Deleted blurry image: /content/flower_images_split/train/Sunflower/8d77772ac9.jpg\n",
            "Deleted blurry image: /content/flower_images_split/train/Sunflower/ead68b8079.jpg\n",
            "Deleted blurry image: /content/flower_images_split/train/Sunflower/6da8ac8608.jpg\n",
            "Deleted blurry image: /content/flower_images_split/train/Sunflower/b48976c034.jpg\n",
            "Deleted blurry image: /content/flower_images_split/train/Sunflower/b630a73401.jpg\n",
            "Deleted blurry image: /content/flower_images_split/train/Sunflower/02649141fa.jpg\n",
            "Deleted blurry image: /content/flower_images_split/train/Sunflower/452e6dd561.jpg\n",
            "Deleted blurry image: /content/flower_images_split/train/Sunflower/4edd0d6dfa.jpg\n",
            "Deleted blurry image: /content/flower_images_split/train/Sunflower/59bc8425ba.jpg\n",
            "Deleted blurry image: /content/flower_images_split/train/Sunflower/8a95738039.jpg\n",
            "Deleted blurry image: /content/flower_images_split/train/Sunflower/67a924255f.jpg\n",
            "Deleted blurry image: /content/flower_images_split/train/Sunflower/3e3e826c93.jpg\n",
            "Deleted blurry image: /content/flower_images_split/train/Sunflower/715e650d49.jpg\n",
            "Deleted blurry image: /content/flower_images_split/train/Sunflower/db436c55d2.jpg\n",
            "Deleted blurry image: /content/flower_images_split/train/Sunflower/1eecf7a4c5.jpg\n",
            "Deleted blurry image: /content/flower_images_split/train/Sunflower/5e7975e310.jpg\n",
            "Deleted blurry image: /content/flower_images_split/train/Sunflower/f3cc9f4e03.jpg\n",
            "Deleted blurry image: /content/flower_images_split/train/Sunflower/37000e4959.jpg\n",
            "Deleted blurry image: /content/flower_images_split/train/Sunflower/ae751e4d9e.jpg\n",
            "Deleted blurry image: /content/flower_images_split/train/Sunflower/d9056c9e6e.jpg\n",
            "Deleted blurry image: /content/flower_images_split/train/Sunflower/63ffc580ad.jpg\n",
            "Deleted blurry image: /content/flower_images_split/train/Sunflower/6b3be31f15.jpg\n",
            "Deleted blurry image: /content/flower_images_split/train/Sunflower/4a4ac26c27.jpg\n",
            "Deleted blurry image: /content/flower_images_split/train/Sunflower/77bb0ea791.jpg\n",
            "Deleted blurry image: /content/flower_images_split/train/Sunflower/58ba642afe.jpg\n",
            "Deleted blurry image: /content/flower_images_split/train/Sunflower/595fbeb149.jpg\n",
            "Deleted blurry image: /content/flower_images_split/train/Sunflower/9bf9bc1f80.jpg\n",
            "Deleted blurry image: /content/flower_images_split/train/Sunflower/a3028f4b68.jpg\n",
            "Deleted blurry image: /content/flower_images_split/train/Sunflower/0149ff68c5.jpg\n",
            "Deleted blurry image: /content/flower_images_split/train/Sunflower/d8e3a8c8d4.jpg\n",
            "Deleted blurry image: /content/flower_images_split/train/Sunflower/3967c0bb8e.jpg\n",
            "Deleted blurry image: /content/flower_images_split/train/Sunflower/117be8c20c.jpg\n",
            "Deleted blurry image: /content/flower_images_split/train/Sunflower/a999695fc5.jpg\n",
            "Deleted blurry image: /content/flower_images_split/train/Orchid/715644501e.jpg\n",
            "Deleted blurry image: /content/flower_images_split/train/Orchid/9b6ae836b2.jpg\n",
            "Deleted blurry image: /content/flower_images_split/train/Orchid/f5f752200c.jpg\n",
            "Deleted blurry image: /content/flower_images_split/train/Orchid/67816fc32f.jpg\n",
            "Deleted blurry image: /content/flower_images_split/train/Orchid/e8dc91817b.jpg\n",
            "Deleted blurry image: /content/flower_images_split/train/Orchid/4c50641141.jpg\n",
            "Deleted blurry image: /content/flower_images_split/train/Orchid/829af70c91.jpg\n",
            "Deleted blurry image: /content/flower_images_split/train/Orchid/489cef8f04.jpg\n",
            "Deleted blurry image: /content/flower_images_split/train/Orchid/e4062278d4.jpg\n",
            "Deleted blurry image: /content/flower_images_split/train/Orchid/50ad7f2d9c.jpg\n",
            "Deleted blurry image: /content/flower_images_split/train/Orchid/a973108ced.jpg\n",
            "Deleted blurry image: /content/flower_images_split/train/Orchid/9e64632795.jpg\n",
            "Deleted blurry image: /content/flower_images_split/train/Orchid/26e227132b.jpg\n",
            "Deleted blurry image: /content/flower_images_split/train/Orchid/d84a66c0c6.jpg\n",
            "Deleted blurry image: /content/flower_images_split/train/Orchid/096cc0a2dd.jpg\n",
            "Deleted blurry image: /content/flower_images_split/train/Orchid/6934988bce.jpg\n",
            "Deleted blurry image: /content/flower_images_split/train/Orchid/e3bea68f50.jpg\n",
            "Deleted blurry image: /content/flower_images_split/train/Orchid/0213981698.jpg\n",
            "Deleted blurry image: /content/flower_images_split/train/Orchid/309a81d3f4.jpg\n",
            "Deleted blurry image: /content/flower_images_split/train/Orchid/673ab53530.jpg\n",
            "Deleted blurry image: /content/flower_images_split/train/Orchid/3b69d7f4a8.jpg\n",
            "Deleted blurry image: /content/flower_images_split/train/Orchid/27b4730c95.jpg\n",
            "Deleted blurry image: /content/flower_images_split/train/Orchid/49053d3454.jpg\n",
            "Deleted blurry image: /content/flower_images_split/train/Orchid/70765fb878.jpg\n",
            "Deleted blurry image: /content/flower_images_split/train/Orchid/c3a17cf52f.jpg\n",
            "Deleted blurry image: /content/flower_images_split/train/Orchid/fc8bbfedcd.jpg\n",
            "Deleted blurry image: /content/flower_images_split/train/Orchid/2d4ee50c2f.jpg\n",
            "Deleted blurry image: /content/flower_images_split/train/Orchid/b52838dd85.jpg\n",
            "Deleted blurry image: /content/flower_images_split/train/Orchid/0620a7e7c0.jpg\n",
            "Deleted blurry image: /content/flower_images_split/train/Orchid/e22b09a499.jpg\n",
            "Deleted blurry image: /content/flower_images_split/train/Orchid/c5f2ee8c07.jpg\n",
            "Deleted blurry image: /content/flower_images_split/train/Orchid/a4ce55445d.jpg\n",
            "Deleted blurry image: /content/flower_images_split/train/Orchid/92877e3a41.jpg\n",
            "Deleted blurry image: /content/flower_images_split/train/Orchid/47592a4edc.jpg\n",
            "Deleted blurry image: /content/flower_images_split/train/Orchid/e995f495be.jpg\n",
            "Deleted blurry image: /content/flower_images_split/train/Orchid/6e6f8fd9c8.jpg\n",
            "Deleted blurry image: /content/flower_images_split/train/Orchid/beef07af66.jpg\n",
            "Deleted blurry image: /content/flower_images_split/train/Orchid/607e28c782.jpg\n",
            "Deleted blurry image: /content/flower_images_split/train/Orchid/c4512245ca.jpg\n",
            "Deleted blurry image: /content/flower_images_split/train/Orchid/885e1dc9e8.jpg\n",
            "Deleted blurry image: /content/flower_images_split/train/Orchid/5e52398cb5.jpg\n",
            "Deleted blurry image: /content/flower_images_split/train/Orchid/67631dfb53.jpg\n",
            "Deleted blurry image: /content/flower_images_split/train/Orchid/58ef0eebd8.jpg\n",
            "Deleted blurry image: /content/flower_images_split/train/Orchid/3db3fb1952.jpg\n",
            "Deleted blurry image: /content/flower_images_split/train/Orchid/e99e508463.jpg\n",
            "Deleted blurry image: /content/flower_images_split/train/Orchid/97f2fddeca.jpg\n",
            "Deleted blurry image: /content/flower_images_split/train/Orchid/59b8b2980e.jpg\n",
            "Deleted blurry image: /content/flower_images_split/train/Orchid/313a6bcbd7.jpg\n",
            "Deleted blurry image: /content/flower_images_split/train/Orchid/42270bb4da.jpg\n",
            "Deleted blurry image: /content/flower_images_split/train/Orchid/2d8a4247f8.jpg\n",
            "Deleted blurry image: /content/flower_images_split/train/Orchid/02e269e509.jpg\n",
            "Deleted blurry image: /content/flower_images_split/train/Orchid/50aec8fe10.jpg\n",
            "Deleted blurry image: /content/flower_images_split/train/Orchid/660e337069.jpg\n",
            "Deleted blurry image: /content/flower_images_split/train/Orchid/933a5b30a1.jpg\n",
            "Deleted blurry image: /content/flower_images_split/train/Orchid/4350e1be55.jpg\n",
            "Deleted blurry image: /content/flower_images_split/train/Orchid/262769837e.jpg\n",
            "Deleted blurry image: /content/flower_images_split/train/Orchid/4d956f11a5.jpg\n",
            "Deleted blurry image: /content/flower_images_split/train/Orchid/b89b5e07b3.jpg\n",
            "Deleted blurry image: /content/flower_images_split/train/Orchid/4137bfc358.jpg\n",
            "Deleted blurry image: /content/flower_images_split/train/Orchid/ff8af0eed7.jpg\n",
            "Deleted blurry image: /content/flower_images_split/train/Orchid/0c319b3498.jpg\n",
            "Deleted blurry image: /content/flower_images_split/train/Orchid/3a46884116.jpg\n",
            "Deleted blurry image: /content/flower_images_split/train/Orchid/8229d3e1ce.jpg\n",
            "Deleted blurry image: /content/flower_images_split/train/Orchid/67ff736bc2.jpg\n",
            "Deleted blurry image: /content/flower_images_split/train/Orchid/8c367f73a8.jpg\n",
            "Deleted blurry image: /content/flower_images_split/train/Orchid/0d78d8b0c1.jpg\n",
            "Deleted blurry image: /content/flower_images_split/train/Orchid/a8bf5ec11e.jpg\n",
            "Deleted blurry image: /content/flower_images_split/train/Orchid/45f094bf9d.jpg\n",
            "Total blurry images deleted from /content/flower_images_split/train: 379\n",
            "Deleted blurry image: /content/flower_images_split/val/Lilly/afabbd4009.jpg\n",
            "Deleted blurry image: /content/flower_images_split/val/Lilly/2cc7d01b01.jpg\n",
            "Deleted blurry image: /content/flower_images_split/val/Lilly/bdd0af0e12.jpg\n",
            "Deleted blurry image: /content/flower_images_split/val/Lilly/2827b3b234.jpg\n",
            "Deleted blurry image: /content/flower_images_split/val/Lilly/44fe9f3983.jpg\n",
            "Deleted blurry image: /content/flower_images_split/val/Lilly/0da73f3c61.jpg\n",
            "Deleted blurry image: /content/flower_images_split/val/Lilly/8af266261d.jpg\n",
            "Deleted blurry image: /content/flower_images_split/val/Lilly/52ef67fc65.jpg\n",
            "Deleted blurry image: /content/flower_images_split/val/Lilly/0dd416ef58.jpg\n",
            "Deleted blurry image: /content/flower_images_split/val/Tulip/269d9ca84a.jpg\n",
            "Deleted blurry image: /content/flower_images_split/val/Tulip/4886d624df.jpg\n",
            "Deleted blurry image: /content/flower_images_split/val/Tulip/7b765c1fe4.jpg\n",
            "Deleted blurry image: /content/flower_images_split/val/Tulip/5825129aec.jpg\n",
            "Deleted blurry image: /content/flower_images_split/val/Tulip/bd53e925b6.jpg\n",
            "Deleted blurry image: /content/flower_images_split/val/Tulip/c0b4f4df81.jpg\n",
            "Deleted blurry image: /content/flower_images_split/val/Tulip/8dc0dce264.jpg\n",
            "Deleted blurry image: /content/flower_images_split/val/Tulip/7bee8ff3c4.jpg\n",
            "Deleted blurry image: /content/flower_images_split/val/Tulip/c210d3e475.jpg\n",
            "Deleted blurry image: /content/flower_images_split/val/Tulip/85528dcc02.jpg\n",
            "Deleted blurry image: /content/flower_images_split/val/Tulip/5a3cd8f952.jpg\n",
            "Deleted blurry image: /content/flower_images_split/val/Tulip/6c3c0a7f3e.jpg\n",
            "Deleted blurry image: /content/flower_images_split/val/Tulip/f68552009f.jpg\n",
            "Deleted blurry image: /content/flower_images_split/val/Tulip/9c8cb29522.jpg\n",
            "Deleted blurry image: /content/flower_images_split/val/Tulip/cb73c9c5ad.jpg\n",
            "Deleted blurry image: /content/flower_images_split/val/Tulip/8a6f50df94.jpg\n",
            "Deleted blurry image: /content/flower_images_split/val/Lotus/bd7d6a2c81.jpg\n",
            "Deleted blurry image: /content/flower_images_split/val/Lotus/afd0008d49.jpg\n",
            "Deleted blurry image: /content/flower_images_split/val/Lotus/c93f0a0ed9.jpg\n",
            "Deleted blurry image: /content/flower_images_split/val/Lotus/ee4f02cc67.jpg\n",
            "Deleted blurry image: /content/flower_images_split/val/Lotus/ad3f47bb34.jpg\n",
            "Deleted blurry image: /content/flower_images_split/val/Lotus/a9c5f326bc.jpg\n",
            "Deleted blurry image: /content/flower_images_split/val/Lotus/522bfdece5.jpg\n",
            "Deleted blurry image: /content/flower_images_split/val/Lotus/a365c8f98f.jpg\n",
            "Deleted blurry image: /content/flower_images_split/val/Lotus/78be741dc5.jpg\n",
            "Deleted blurry image: /content/flower_images_split/val/Lotus/5bf15d1927.jpg\n",
            "Deleted blurry image: /content/flower_images_split/val/Lotus/3727324636.jpg\n",
            "Deleted blurry image: /content/flower_images_split/val/Lotus/9cbf678c64.jpg\n",
            "Deleted blurry image: /content/flower_images_split/val/Sunflower/146a7982c7.jpg\n",
            "Deleted blurry image: /content/flower_images_split/val/Orchid/81d4e2362b.jpg\n",
            "Deleted blurry image: /content/flower_images_split/val/Orchid/a0850fdc6c.jpg\n",
            "Deleted blurry image: /content/flower_images_split/val/Orchid/c06bc10e2b.jpg\n",
            "Deleted blurry image: /content/flower_images_split/val/Orchid/0c130ecf58.jpg\n",
            "Deleted blurry image: /content/flower_images_split/val/Orchid/347b9207d6.jpg\n",
            "Deleted blurry image: /content/flower_images_split/val/Orchid/d6c2688fb3.jpg\n",
            "Deleted blurry image: /content/flower_images_split/val/Orchid/731270cea6.jpg\n",
            "Deleted blurry image: /content/flower_images_split/val/Orchid/7bf3a56cf3.jpg\n",
            "Deleted blurry image: /content/flower_images_split/val/Orchid/066ac18e1d.jpg\n",
            "Total blurry images deleted from /content/flower_images_split/val: 47\n",
            "Deleted blurry image: /content/flower_images_split/test/Lilly/a0957ec347.jpg\n",
            "Deleted blurry image: /content/flower_images_split/test/Lilly/ab5964d7a9.jpg\n",
            "Deleted blurry image: /content/flower_images_split/test/Lilly/6412799dc6.jpg\n",
            "Deleted blurry image: /content/flower_images_split/test/Lilly/6a61f8f8d7.jpg\n",
            "Deleted blurry image: /content/flower_images_split/test/Lilly/9509bc69dc.jpg\n",
            "Deleted blurry image: /content/flower_images_split/test/Tulip/cb0f2b9621.jpg\n",
            "Deleted blurry image: /content/flower_images_split/test/Tulip/47c66e7ed3.jpg\n",
            "Deleted blurry image: /content/flower_images_split/test/Tulip/c3e11e631b.jpg\n",
            "Deleted blurry image: /content/flower_images_split/test/Tulip/6554ceefdf.jpg\n",
            "Deleted blurry image: /content/flower_images_split/test/Tulip/63968eba20.jpg\n",
            "Deleted blurry image: /content/flower_images_split/test/Tulip/4e838b391b.jpg\n",
            "Deleted blurry image: /content/flower_images_split/test/Tulip/e9c0a30b47.jpg\n",
            "Deleted blurry image: /content/flower_images_split/test/Tulip/0fecc1d25a.jpg\n",
            "Deleted blurry image: /content/flower_images_split/test/Tulip/5858bcafa4.jpg\n",
            "Deleted blurry image: /content/flower_images_split/test/Lotus/53273fc047.jpg\n",
            "Deleted blurry image: /content/flower_images_split/test/Lotus/2cc68874be.jpg\n",
            "Deleted blurry image: /content/flower_images_split/test/Lotus/6acf5327ad.jpg\n",
            "Deleted blurry image: /content/flower_images_split/test/Lotus/5da1d8b229.jpg\n",
            "Deleted blurry image: /content/flower_images_split/test/Lotus/bd36dbe003.jpg\n",
            "Deleted blurry image: /content/flower_images_split/test/Lotus/eaeaceaf90.jpg\n",
            "Deleted blurry image: /content/flower_images_split/test/Lotus/65fbcf1ba4.jpg\n",
            "Deleted blurry image: /content/flower_images_split/test/Lotus/e3178c27a8.jpg\n",
            "Deleted blurry image: /content/flower_images_split/test/Lotus/788c3fa819.jpg\n",
            "Deleted blurry image: /content/flower_images_split/test/Lotus/b9c65af4f9.jpg\n",
            "Deleted blurry image: /content/flower_images_split/test/Lotus/b94c3ecfa6.jpg\n",
            "Deleted blurry image: /content/flower_images_split/test/Lotus/f0b5a1dd4b.jpg\n",
            "Deleted blurry image: /content/flower_images_split/test/Lotus/a4a16e592c.jpg\n",
            "Deleted blurry image: /content/flower_images_split/test/Lotus/cbfde23b9e.jpg\n",
            "Deleted blurry image: /content/flower_images_split/test/Lotus/12229788db.jpg\n",
            "Deleted blurry image: /content/flower_images_split/test/Lotus/579a4f0f61.jpg\n",
            "Deleted blurry image: /content/flower_images_split/test/Lotus/608a0c186f.jpg\n",
            "Deleted blurry image: /content/flower_images_split/test/Sunflower/a27dced2a0.jpg\n",
            "Deleted blurry image: /content/flower_images_split/test/Sunflower/ee7ff79619.jpg\n",
            "Deleted blurry image: /content/flower_images_split/test/Sunflower/2ae1c0f845.jpg\n",
            "Deleted blurry image: /content/flower_images_split/test/Sunflower/0b26b4523e.jpg\n",
            "Deleted blurry image: /content/flower_images_split/test/Sunflower/63671ff125.jpg\n",
            "Deleted blurry image: /content/flower_images_split/test/Sunflower/b55c2b25f3.jpg\n",
            "Deleted blurry image: /content/flower_images_split/test/Orchid/6311c3c256.jpg\n",
            "Deleted blurry image: /content/flower_images_split/test/Orchid/9878848b8f.jpg\n",
            "Deleted blurry image: /content/flower_images_split/test/Orchid/a3de521159.jpg\n",
            "Deleted blurry image: /content/flower_images_split/test/Orchid/3efe241671.jpg\n",
            "Deleted blurry image: /content/flower_images_split/test/Orchid/a2b507daa4.jpg\n",
            "Deleted blurry image: /content/flower_images_split/test/Orchid/c79e73b029.jpg\n",
            "Deleted blurry image: /content/flower_images_split/test/Orchid/50c049b984.jpg\n",
            "Deleted blurry image: /content/flower_images_split/test/Orchid/b53ef4e55b.jpg\n",
            "Deleted blurry image: /content/flower_images_split/test/Orchid/6e605803cd.jpg\n",
            "Deleted blurry image: /content/flower_images_split/test/Orchid/6d24dcbb40.jpg\n",
            "Deleted blurry image: /content/flower_images_split/test/Orchid/6a2edb66d8.jpg\n",
            "Total blurry images deleted from /content/flower_images_split/test: 48\n"
          ]
        }
      ]
    },
    {
      "cell_type": "markdown",
      "source": [
        "**Insight:**\n",
        "gambar blur telah dihapus dari dataset menggunakan deteksi blur berbasis Laplacian.\n",
        "* gambar blur yg di delete di train : `379`\n",
        "* gambar blur yg di delete di val: `47`\n",
        "* gambar blur yg di delete di test: `48`\n"
      ],
      "metadata": {
        "id": "acHT_Bdc4btC"
      }
    },
    {
      "cell_type": "markdown",
      "source": [
        "# normalisasi & rekap jumlah gambar per dataset"
      ],
      "metadata": {
        "id": "bMRrHPeX1l2j"
      }
    },
    {
      "cell_type": "code",
      "source": [
        "train_dir = \"/content/flower_images_split/train\"\n",
        "val_dir   = \"/content/flower_images_split/val\"\n",
        "test_dir  = \"/content/flower_images_split/test\"\n",
        "\n",
        "img_size = (180, 180)\n",
        "batch_size = 32\n",
        "\n",
        "train_datagen = ImageDataGenerator(rescale=1./255)\n",
        "val_datagen   = ImageDataGenerator(rescale=1./255)\n",
        "test_datagen  = ImageDataGenerator(rescale=1./255)\n",
        "\n",
        "# Updated paths for train_dir, val_dir, and test_dir\n",
        "train_gen = train_datagen.flow_from_directory(train_dir, target_size=img_size, batch_size=batch_size, class_mode='categorical')\n",
        "val_gen   = val_datagen.flow_from_directory(val_dir, target_size=img_size, batch_size=batch_size, class_mode='categorical')\n",
        "test_gen  = test_datagen.flow_from_directory(test_dir, target_size=img_size, batch_size=batch_size, class_mode='categorical', shuffle=False)\n",
        "\n",
        "# Cek jumlah gambar\n",
        "print(\"Total gambar di TRAIN SET:\", train_gen.samples)\n",
        "print(\"Total gambar di VALIDATION SET:\", val_gen.samples)\n",
        "print(\"Total gambar di TEST SET:\", test_gen.samples)\n",
        "print(\"Total keseluruhan:\", train_gen.samples + val_gen.samples + test_gen.samples)"
      ],
      "metadata": {
        "colab": {
          "base_uri": "https://localhost:8080/"
        },
        "id": "f8I_stNZOjtb",
        "outputId": "b141a2e3-ea40-4bae-ac66-2cecbaea6f35"
      },
      "execution_count": 9,
      "outputs": [
        {
          "output_type": "stream",
          "name": "stdout",
          "text": [
            "Found 3621 images belonging to 5 classes.\n",
            "Found 453 images belonging to 5 classes.\n",
            "Found 452 images belonging to 5 classes.\n",
            "Total gambar di TRAIN SET: 3621\n",
            "Total gambar di VALIDATION SET: 453\n",
            "Total gambar di TEST SET: 452\n",
            "Total keseluruhan: 4526\n"
          ]
        }
      ]
    },
    {
      "cell_type": "markdown",
      "source": [
        "# arsitektur CNN"
      ],
      "metadata": {
        "id": "Ux-P0GBa1vBL"
      }
    },
    {
      "cell_type": "code",
      "source": [
        "# Membuat model baru\n",
        "model = Sequential()\n",
        "\n",
        "# Block 1\n",
        "model.add(Conv2D(32, (3,3), activation='relu', padding='same', input_shape=(180,180,3))) # Change input shape to (180, 180, 3)\n",
        "model.add(BatchNormalization())\n",
        "model.add(Conv2D(32, (3,3), activation='relu', padding='same'))\n",
        "model.add(BatchNormalization())\n",
        "model.add(MaxPooling2D(pool_size=(2,2)))\n",
        "\n",
        "# Block 2\n",
        "model.add(Conv2D(64, (3,3), activation='relu', padding='same'))\n",
        "model.add(BatchNormalization())\n",
        "model.add(Conv2D(64, (3,3), activation='relu', padding='same'))\n",
        "model.add(BatchNormalization())\n",
        "model.add(MaxPooling2D(pool_size=(2,2)))\n",
        "\n",
        "# Block 3\n",
        "model.add(Conv2D(128, (3,3), activation='relu', padding='same'))\n",
        "model.add(BatchNormalization())\n",
        "model.add(Conv2D(128, (3,3), activation='relu', padding='same'))\n",
        "model.add(BatchNormalization())\n",
        "model.add(MaxPooling2D(pool_size=(2,2)))\n",
        "\n",
        "# Block 4\n",
        "model.add(Conv2D(256, (3,3), activation='relu', padding='same'))\n",
        "model.add(BatchNormalization())\n",
        "model.add(MaxPooling2D(pool_size=(2,2)))\n",
        "\n",
        "# Fully Connected\n",
        "model.add(Flatten())\n",
        "model.add(Dense(256, activation='relu'))\n",
        "model.add(Dropout(0.5))  # Dropout untuk mencegah overfitting\n",
        "model.add(Dense(5, activation='softmax'))  # 5 kelas\n",
        "\n",
        "# Compile model\n",
        "optimizer = Adam(learning_rate=0.0001)\n",
        "model.compile(optimizer=optimizer,\n",
        "              loss='categorical_crossentropy',\n",
        "              metrics=['accuracy'])\n",
        "\n",
        "model.summary()"
      ],
      "metadata": {
        "colab": {
          "base_uri": "https://localhost:8080/",
          "height": 959
        },
        "id": "Ze4WuH_0cGMg",
        "outputId": "0dd099a0-5eaa-41e1-a7fb-2154c6e216d4"
      },
      "execution_count": 31,
      "outputs": [
        {
          "output_type": "display_data",
          "data": {
            "text/plain": [
              "\u001b[1mModel: \"sequential_3\"\u001b[0m\n"
            ],
            "text/html": [
              "<pre style=\"white-space:pre;overflow-x:auto;line-height:normal;font-family:Menlo,'DejaVu Sans Mono',consolas,'Courier New',monospace\"><span style=\"font-weight: bold\">Model: \"sequential_3\"</span>\n",
              "</pre>\n"
            ]
          },
          "metadata": {}
        },
        {
          "output_type": "display_data",
          "data": {
            "text/plain": [
              "┏━━━━━━━━━━━━━━━━━━━━━━━━━━━━━━━━━━━━━━┳━━━━━━━━━━━━━━━━━━━━━━━━━━━━━┳━━━━━━━━━━━━━━━━━┓\n",
              "┃\u001b[1m \u001b[0m\u001b[1mLayer (type)                        \u001b[0m\u001b[1m \u001b[0m┃\u001b[1m \u001b[0m\u001b[1mOutput Shape               \u001b[0m\u001b[1m \u001b[0m┃\u001b[1m \u001b[0m\u001b[1m        Param #\u001b[0m\u001b[1m \u001b[0m┃\n",
              "┡━━━━━━━━━━━━━━━━━━━━━━━━━━━━━━━━━━━━━━╇━━━━━━━━━━━━━━━━━━━━━━━━━━━━━╇━━━━━━━━━━━━━━━━━┩\n",
              "│ conv2d_18 (\u001b[38;5;33mConv2D\u001b[0m)                   │ (\u001b[38;5;45mNone\u001b[0m, \u001b[38;5;34m180\u001b[0m, \u001b[38;5;34m180\u001b[0m, \u001b[38;5;34m32\u001b[0m)        │             \u001b[38;5;34m896\u001b[0m │\n",
              "├──────────────────────────────────────┼─────────────────────────────┼─────────────────┤\n",
              "│ batch_normalization_14               │ (\u001b[38;5;45mNone\u001b[0m, \u001b[38;5;34m180\u001b[0m, \u001b[38;5;34m180\u001b[0m, \u001b[38;5;34m32\u001b[0m)        │             \u001b[38;5;34m128\u001b[0m │\n",
              "│ (\u001b[38;5;33mBatchNormalization\u001b[0m)                 │                             │                 │\n",
              "├──────────────────────────────────────┼─────────────────────────────┼─────────────────┤\n",
              "│ conv2d_19 (\u001b[38;5;33mConv2D\u001b[0m)                   │ (\u001b[38;5;45mNone\u001b[0m, \u001b[38;5;34m180\u001b[0m, \u001b[38;5;34m180\u001b[0m, \u001b[38;5;34m32\u001b[0m)        │           \u001b[38;5;34m9,248\u001b[0m │\n",
              "├──────────────────────────────────────┼─────────────────────────────┼─────────────────┤\n",
              "│ batch_normalization_15               │ (\u001b[38;5;45mNone\u001b[0m, \u001b[38;5;34m180\u001b[0m, \u001b[38;5;34m180\u001b[0m, \u001b[38;5;34m32\u001b[0m)        │             \u001b[38;5;34m128\u001b[0m │\n",
              "│ (\u001b[38;5;33mBatchNormalization\u001b[0m)                 │                             │                 │\n",
              "├──────────────────────────────────────┼─────────────────────────────┼─────────────────┤\n",
              "│ max_pooling2d_12 (\u001b[38;5;33mMaxPooling2D\u001b[0m)      │ (\u001b[38;5;45mNone\u001b[0m, \u001b[38;5;34m90\u001b[0m, \u001b[38;5;34m90\u001b[0m, \u001b[38;5;34m32\u001b[0m)          │               \u001b[38;5;34m0\u001b[0m │\n",
              "├──────────────────────────────────────┼─────────────────────────────┼─────────────────┤\n",
              "│ conv2d_20 (\u001b[38;5;33mConv2D\u001b[0m)                   │ (\u001b[38;5;45mNone\u001b[0m, \u001b[38;5;34m90\u001b[0m, \u001b[38;5;34m90\u001b[0m, \u001b[38;5;34m64\u001b[0m)          │          \u001b[38;5;34m18,496\u001b[0m │\n",
              "├──────────────────────────────────────┼─────────────────────────────┼─────────────────┤\n",
              "│ batch_normalization_16               │ (\u001b[38;5;45mNone\u001b[0m, \u001b[38;5;34m90\u001b[0m, \u001b[38;5;34m90\u001b[0m, \u001b[38;5;34m64\u001b[0m)          │             \u001b[38;5;34m256\u001b[0m │\n",
              "│ (\u001b[38;5;33mBatchNormalization\u001b[0m)                 │                             │                 │\n",
              "├──────────────────────────────────────┼─────────────────────────────┼─────────────────┤\n",
              "│ conv2d_21 (\u001b[38;5;33mConv2D\u001b[0m)                   │ (\u001b[38;5;45mNone\u001b[0m, \u001b[38;5;34m90\u001b[0m, \u001b[38;5;34m90\u001b[0m, \u001b[38;5;34m64\u001b[0m)          │          \u001b[38;5;34m36,928\u001b[0m │\n",
              "├──────────────────────────────────────┼─────────────────────────────┼─────────────────┤\n",
              "│ batch_normalization_17               │ (\u001b[38;5;45mNone\u001b[0m, \u001b[38;5;34m90\u001b[0m, \u001b[38;5;34m90\u001b[0m, \u001b[38;5;34m64\u001b[0m)          │             \u001b[38;5;34m256\u001b[0m │\n",
              "│ (\u001b[38;5;33mBatchNormalization\u001b[0m)                 │                             │                 │\n",
              "├──────────────────────────────────────┼─────────────────────────────┼─────────────────┤\n",
              "│ max_pooling2d_13 (\u001b[38;5;33mMaxPooling2D\u001b[0m)      │ (\u001b[38;5;45mNone\u001b[0m, \u001b[38;5;34m45\u001b[0m, \u001b[38;5;34m45\u001b[0m, \u001b[38;5;34m64\u001b[0m)          │               \u001b[38;5;34m0\u001b[0m │\n",
              "├──────────────────────────────────────┼─────────────────────────────┼─────────────────┤\n",
              "│ conv2d_22 (\u001b[38;5;33mConv2D\u001b[0m)                   │ (\u001b[38;5;45mNone\u001b[0m, \u001b[38;5;34m45\u001b[0m, \u001b[38;5;34m45\u001b[0m, \u001b[38;5;34m128\u001b[0m)         │          \u001b[38;5;34m73,856\u001b[0m │\n",
              "├──────────────────────────────────────┼─────────────────────────────┼─────────────────┤\n",
              "│ batch_normalization_18               │ (\u001b[38;5;45mNone\u001b[0m, \u001b[38;5;34m45\u001b[0m, \u001b[38;5;34m45\u001b[0m, \u001b[38;5;34m128\u001b[0m)         │             \u001b[38;5;34m512\u001b[0m │\n",
              "│ (\u001b[38;5;33mBatchNormalization\u001b[0m)                 │                             │                 │\n",
              "├──────────────────────────────────────┼─────────────────────────────┼─────────────────┤\n",
              "│ conv2d_23 (\u001b[38;5;33mConv2D\u001b[0m)                   │ (\u001b[38;5;45mNone\u001b[0m, \u001b[38;5;34m45\u001b[0m, \u001b[38;5;34m45\u001b[0m, \u001b[38;5;34m128\u001b[0m)         │         \u001b[38;5;34m147,584\u001b[0m │\n",
              "├──────────────────────────────────────┼─────────────────────────────┼─────────────────┤\n",
              "│ batch_normalization_19               │ (\u001b[38;5;45mNone\u001b[0m, \u001b[38;5;34m45\u001b[0m, \u001b[38;5;34m45\u001b[0m, \u001b[38;5;34m128\u001b[0m)         │             \u001b[38;5;34m512\u001b[0m │\n",
              "│ (\u001b[38;5;33mBatchNormalization\u001b[0m)                 │                             │                 │\n",
              "├──────────────────────────────────────┼─────────────────────────────┼─────────────────┤\n",
              "│ max_pooling2d_14 (\u001b[38;5;33mMaxPooling2D\u001b[0m)      │ (\u001b[38;5;45mNone\u001b[0m, \u001b[38;5;34m22\u001b[0m, \u001b[38;5;34m22\u001b[0m, \u001b[38;5;34m128\u001b[0m)         │               \u001b[38;5;34m0\u001b[0m │\n",
              "├──────────────────────────────────────┼─────────────────────────────┼─────────────────┤\n",
              "│ conv2d_24 (\u001b[38;5;33mConv2D\u001b[0m)                   │ (\u001b[38;5;45mNone\u001b[0m, \u001b[38;5;34m22\u001b[0m, \u001b[38;5;34m22\u001b[0m, \u001b[38;5;34m256\u001b[0m)         │         \u001b[38;5;34m295,168\u001b[0m │\n",
              "├──────────────────────────────────────┼─────────────────────────────┼─────────────────┤\n",
              "│ batch_normalization_20               │ (\u001b[38;5;45mNone\u001b[0m, \u001b[38;5;34m22\u001b[0m, \u001b[38;5;34m22\u001b[0m, \u001b[38;5;34m256\u001b[0m)         │           \u001b[38;5;34m1,024\u001b[0m │\n",
              "│ (\u001b[38;5;33mBatchNormalization\u001b[0m)                 │                             │                 │\n",
              "├──────────────────────────────────────┼─────────────────────────────┼─────────────────┤\n",
              "│ max_pooling2d_15 (\u001b[38;5;33mMaxPooling2D\u001b[0m)      │ (\u001b[38;5;45mNone\u001b[0m, \u001b[38;5;34m11\u001b[0m, \u001b[38;5;34m11\u001b[0m, \u001b[38;5;34m256\u001b[0m)         │               \u001b[38;5;34m0\u001b[0m │\n",
              "├──────────────────────────────────────┼─────────────────────────────┼─────────────────┤\n",
              "│ flatten_3 (\u001b[38;5;33mFlatten\u001b[0m)                  │ (\u001b[38;5;45mNone\u001b[0m, \u001b[38;5;34m30976\u001b[0m)               │               \u001b[38;5;34m0\u001b[0m │\n",
              "├──────────────────────────────────────┼─────────────────────────────┼─────────────────┤\n",
              "│ dense_6 (\u001b[38;5;33mDense\u001b[0m)                      │ (\u001b[38;5;45mNone\u001b[0m, \u001b[38;5;34m256\u001b[0m)                 │       \u001b[38;5;34m7,930,112\u001b[0m │\n",
              "├──────────────────────────────────────┼─────────────────────────────┼─────────────────┤\n",
              "│ dropout_3 (\u001b[38;5;33mDropout\u001b[0m)                  │ (\u001b[38;5;45mNone\u001b[0m, \u001b[38;5;34m256\u001b[0m)                 │               \u001b[38;5;34m0\u001b[0m │\n",
              "├──────────────────────────────────────┼─────────────────────────────┼─────────────────┤\n",
              "│ dense_7 (\u001b[38;5;33mDense\u001b[0m)                      │ (\u001b[38;5;45mNone\u001b[0m, \u001b[38;5;34m5\u001b[0m)                   │           \u001b[38;5;34m1,285\u001b[0m │\n",
              "└──────────────────────────────────────┴─────────────────────────────┴─────────────────┘\n"
            ],
            "text/html": [
              "<pre style=\"white-space:pre;overflow-x:auto;line-height:normal;font-family:Menlo,'DejaVu Sans Mono',consolas,'Courier New',monospace\">┏━━━━━━━━━━━━━━━━━━━━━━━━━━━━━━━━━━━━━━┳━━━━━━━━━━━━━━━━━━━━━━━━━━━━━┳━━━━━━━━━━━━━━━━━┓\n",
              "┃<span style=\"font-weight: bold\"> Layer (type)                         </span>┃<span style=\"font-weight: bold\"> Output Shape                </span>┃<span style=\"font-weight: bold\">         Param # </span>┃\n",
              "┡━━━━━━━━━━━━━━━━━━━━━━━━━━━━━━━━━━━━━━╇━━━━━━━━━━━━━━━━━━━━━━━━━━━━━╇━━━━━━━━━━━━━━━━━┩\n",
              "│ conv2d_18 (<span style=\"color: #0087ff; text-decoration-color: #0087ff\">Conv2D</span>)                   │ (<span style=\"color: #00d7ff; text-decoration-color: #00d7ff\">None</span>, <span style=\"color: #00af00; text-decoration-color: #00af00\">180</span>, <span style=\"color: #00af00; text-decoration-color: #00af00\">180</span>, <span style=\"color: #00af00; text-decoration-color: #00af00\">32</span>)        │             <span style=\"color: #00af00; text-decoration-color: #00af00\">896</span> │\n",
              "├──────────────────────────────────────┼─────────────────────────────┼─────────────────┤\n",
              "│ batch_normalization_14               │ (<span style=\"color: #00d7ff; text-decoration-color: #00d7ff\">None</span>, <span style=\"color: #00af00; text-decoration-color: #00af00\">180</span>, <span style=\"color: #00af00; text-decoration-color: #00af00\">180</span>, <span style=\"color: #00af00; text-decoration-color: #00af00\">32</span>)        │             <span style=\"color: #00af00; text-decoration-color: #00af00\">128</span> │\n",
              "│ (<span style=\"color: #0087ff; text-decoration-color: #0087ff\">BatchNormalization</span>)                 │                             │                 │\n",
              "├──────────────────────────────────────┼─────────────────────────────┼─────────────────┤\n",
              "│ conv2d_19 (<span style=\"color: #0087ff; text-decoration-color: #0087ff\">Conv2D</span>)                   │ (<span style=\"color: #00d7ff; text-decoration-color: #00d7ff\">None</span>, <span style=\"color: #00af00; text-decoration-color: #00af00\">180</span>, <span style=\"color: #00af00; text-decoration-color: #00af00\">180</span>, <span style=\"color: #00af00; text-decoration-color: #00af00\">32</span>)        │           <span style=\"color: #00af00; text-decoration-color: #00af00\">9,248</span> │\n",
              "├──────────────────────────────────────┼─────────────────────────────┼─────────────────┤\n",
              "│ batch_normalization_15               │ (<span style=\"color: #00d7ff; text-decoration-color: #00d7ff\">None</span>, <span style=\"color: #00af00; text-decoration-color: #00af00\">180</span>, <span style=\"color: #00af00; text-decoration-color: #00af00\">180</span>, <span style=\"color: #00af00; text-decoration-color: #00af00\">32</span>)        │             <span style=\"color: #00af00; text-decoration-color: #00af00\">128</span> │\n",
              "│ (<span style=\"color: #0087ff; text-decoration-color: #0087ff\">BatchNormalization</span>)                 │                             │                 │\n",
              "├──────────────────────────────────────┼─────────────────────────────┼─────────────────┤\n",
              "│ max_pooling2d_12 (<span style=\"color: #0087ff; text-decoration-color: #0087ff\">MaxPooling2D</span>)      │ (<span style=\"color: #00d7ff; text-decoration-color: #00d7ff\">None</span>, <span style=\"color: #00af00; text-decoration-color: #00af00\">90</span>, <span style=\"color: #00af00; text-decoration-color: #00af00\">90</span>, <span style=\"color: #00af00; text-decoration-color: #00af00\">32</span>)          │               <span style=\"color: #00af00; text-decoration-color: #00af00\">0</span> │\n",
              "├──────────────────────────────────────┼─────────────────────────────┼─────────────────┤\n",
              "│ conv2d_20 (<span style=\"color: #0087ff; text-decoration-color: #0087ff\">Conv2D</span>)                   │ (<span style=\"color: #00d7ff; text-decoration-color: #00d7ff\">None</span>, <span style=\"color: #00af00; text-decoration-color: #00af00\">90</span>, <span style=\"color: #00af00; text-decoration-color: #00af00\">90</span>, <span style=\"color: #00af00; text-decoration-color: #00af00\">64</span>)          │          <span style=\"color: #00af00; text-decoration-color: #00af00\">18,496</span> │\n",
              "├──────────────────────────────────────┼─────────────────────────────┼─────────────────┤\n",
              "│ batch_normalization_16               │ (<span style=\"color: #00d7ff; text-decoration-color: #00d7ff\">None</span>, <span style=\"color: #00af00; text-decoration-color: #00af00\">90</span>, <span style=\"color: #00af00; text-decoration-color: #00af00\">90</span>, <span style=\"color: #00af00; text-decoration-color: #00af00\">64</span>)          │             <span style=\"color: #00af00; text-decoration-color: #00af00\">256</span> │\n",
              "│ (<span style=\"color: #0087ff; text-decoration-color: #0087ff\">BatchNormalization</span>)                 │                             │                 │\n",
              "├──────────────────────────────────────┼─────────────────────────────┼─────────────────┤\n",
              "│ conv2d_21 (<span style=\"color: #0087ff; text-decoration-color: #0087ff\">Conv2D</span>)                   │ (<span style=\"color: #00d7ff; text-decoration-color: #00d7ff\">None</span>, <span style=\"color: #00af00; text-decoration-color: #00af00\">90</span>, <span style=\"color: #00af00; text-decoration-color: #00af00\">90</span>, <span style=\"color: #00af00; text-decoration-color: #00af00\">64</span>)          │          <span style=\"color: #00af00; text-decoration-color: #00af00\">36,928</span> │\n",
              "├──────────────────────────────────────┼─────────────────────────────┼─────────────────┤\n",
              "│ batch_normalization_17               │ (<span style=\"color: #00d7ff; text-decoration-color: #00d7ff\">None</span>, <span style=\"color: #00af00; text-decoration-color: #00af00\">90</span>, <span style=\"color: #00af00; text-decoration-color: #00af00\">90</span>, <span style=\"color: #00af00; text-decoration-color: #00af00\">64</span>)          │             <span style=\"color: #00af00; text-decoration-color: #00af00\">256</span> │\n",
              "│ (<span style=\"color: #0087ff; text-decoration-color: #0087ff\">BatchNormalization</span>)                 │                             │                 │\n",
              "├──────────────────────────────────────┼─────────────────────────────┼─────────────────┤\n",
              "│ max_pooling2d_13 (<span style=\"color: #0087ff; text-decoration-color: #0087ff\">MaxPooling2D</span>)      │ (<span style=\"color: #00d7ff; text-decoration-color: #00d7ff\">None</span>, <span style=\"color: #00af00; text-decoration-color: #00af00\">45</span>, <span style=\"color: #00af00; text-decoration-color: #00af00\">45</span>, <span style=\"color: #00af00; text-decoration-color: #00af00\">64</span>)          │               <span style=\"color: #00af00; text-decoration-color: #00af00\">0</span> │\n",
              "├──────────────────────────────────────┼─────────────────────────────┼─────────────────┤\n",
              "│ conv2d_22 (<span style=\"color: #0087ff; text-decoration-color: #0087ff\">Conv2D</span>)                   │ (<span style=\"color: #00d7ff; text-decoration-color: #00d7ff\">None</span>, <span style=\"color: #00af00; text-decoration-color: #00af00\">45</span>, <span style=\"color: #00af00; text-decoration-color: #00af00\">45</span>, <span style=\"color: #00af00; text-decoration-color: #00af00\">128</span>)         │          <span style=\"color: #00af00; text-decoration-color: #00af00\">73,856</span> │\n",
              "├──────────────────────────────────────┼─────────────────────────────┼─────────────────┤\n",
              "│ batch_normalization_18               │ (<span style=\"color: #00d7ff; text-decoration-color: #00d7ff\">None</span>, <span style=\"color: #00af00; text-decoration-color: #00af00\">45</span>, <span style=\"color: #00af00; text-decoration-color: #00af00\">45</span>, <span style=\"color: #00af00; text-decoration-color: #00af00\">128</span>)         │             <span style=\"color: #00af00; text-decoration-color: #00af00\">512</span> │\n",
              "│ (<span style=\"color: #0087ff; text-decoration-color: #0087ff\">BatchNormalization</span>)                 │                             │                 │\n",
              "├──────────────────────────────────────┼─────────────────────────────┼─────────────────┤\n",
              "│ conv2d_23 (<span style=\"color: #0087ff; text-decoration-color: #0087ff\">Conv2D</span>)                   │ (<span style=\"color: #00d7ff; text-decoration-color: #00d7ff\">None</span>, <span style=\"color: #00af00; text-decoration-color: #00af00\">45</span>, <span style=\"color: #00af00; text-decoration-color: #00af00\">45</span>, <span style=\"color: #00af00; text-decoration-color: #00af00\">128</span>)         │         <span style=\"color: #00af00; text-decoration-color: #00af00\">147,584</span> │\n",
              "├──────────────────────────────────────┼─────────────────────────────┼─────────────────┤\n",
              "│ batch_normalization_19               │ (<span style=\"color: #00d7ff; text-decoration-color: #00d7ff\">None</span>, <span style=\"color: #00af00; text-decoration-color: #00af00\">45</span>, <span style=\"color: #00af00; text-decoration-color: #00af00\">45</span>, <span style=\"color: #00af00; text-decoration-color: #00af00\">128</span>)         │             <span style=\"color: #00af00; text-decoration-color: #00af00\">512</span> │\n",
              "│ (<span style=\"color: #0087ff; text-decoration-color: #0087ff\">BatchNormalization</span>)                 │                             │                 │\n",
              "├──────────────────────────────────────┼─────────────────────────────┼─────────────────┤\n",
              "│ max_pooling2d_14 (<span style=\"color: #0087ff; text-decoration-color: #0087ff\">MaxPooling2D</span>)      │ (<span style=\"color: #00d7ff; text-decoration-color: #00d7ff\">None</span>, <span style=\"color: #00af00; text-decoration-color: #00af00\">22</span>, <span style=\"color: #00af00; text-decoration-color: #00af00\">22</span>, <span style=\"color: #00af00; text-decoration-color: #00af00\">128</span>)         │               <span style=\"color: #00af00; text-decoration-color: #00af00\">0</span> │\n",
              "├──────────────────────────────────────┼─────────────────────────────┼─────────────────┤\n",
              "│ conv2d_24 (<span style=\"color: #0087ff; text-decoration-color: #0087ff\">Conv2D</span>)                   │ (<span style=\"color: #00d7ff; text-decoration-color: #00d7ff\">None</span>, <span style=\"color: #00af00; text-decoration-color: #00af00\">22</span>, <span style=\"color: #00af00; text-decoration-color: #00af00\">22</span>, <span style=\"color: #00af00; text-decoration-color: #00af00\">256</span>)         │         <span style=\"color: #00af00; text-decoration-color: #00af00\">295,168</span> │\n",
              "├──────────────────────────────────────┼─────────────────────────────┼─────────────────┤\n",
              "│ batch_normalization_20               │ (<span style=\"color: #00d7ff; text-decoration-color: #00d7ff\">None</span>, <span style=\"color: #00af00; text-decoration-color: #00af00\">22</span>, <span style=\"color: #00af00; text-decoration-color: #00af00\">22</span>, <span style=\"color: #00af00; text-decoration-color: #00af00\">256</span>)         │           <span style=\"color: #00af00; text-decoration-color: #00af00\">1,024</span> │\n",
              "│ (<span style=\"color: #0087ff; text-decoration-color: #0087ff\">BatchNormalization</span>)                 │                             │                 │\n",
              "├──────────────────────────────────────┼─────────────────────────────┼─────────────────┤\n",
              "│ max_pooling2d_15 (<span style=\"color: #0087ff; text-decoration-color: #0087ff\">MaxPooling2D</span>)      │ (<span style=\"color: #00d7ff; text-decoration-color: #00d7ff\">None</span>, <span style=\"color: #00af00; text-decoration-color: #00af00\">11</span>, <span style=\"color: #00af00; text-decoration-color: #00af00\">11</span>, <span style=\"color: #00af00; text-decoration-color: #00af00\">256</span>)         │               <span style=\"color: #00af00; text-decoration-color: #00af00\">0</span> │\n",
              "├──────────────────────────────────────┼─────────────────────────────┼─────────────────┤\n",
              "│ flatten_3 (<span style=\"color: #0087ff; text-decoration-color: #0087ff\">Flatten</span>)                  │ (<span style=\"color: #00d7ff; text-decoration-color: #00d7ff\">None</span>, <span style=\"color: #00af00; text-decoration-color: #00af00\">30976</span>)               │               <span style=\"color: #00af00; text-decoration-color: #00af00\">0</span> │\n",
              "├──────────────────────────────────────┼─────────────────────────────┼─────────────────┤\n",
              "│ dense_6 (<span style=\"color: #0087ff; text-decoration-color: #0087ff\">Dense</span>)                      │ (<span style=\"color: #00d7ff; text-decoration-color: #00d7ff\">None</span>, <span style=\"color: #00af00; text-decoration-color: #00af00\">256</span>)                 │       <span style=\"color: #00af00; text-decoration-color: #00af00\">7,930,112</span> │\n",
              "├──────────────────────────────────────┼─────────────────────────────┼─────────────────┤\n",
              "│ dropout_3 (<span style=\"color: #0087ff; text-decoration-color: #0087ff\">Dropout</span>)                  │ (<span style=\"color: #00d7ff; text-decoration-color: #00d7ff\">None</span>, <span style=\"color: #00af00; text-decoration-color: #00af00\">256</span>)                 │               <span style=\"color: #00af00; text-decoration-color: #00af00\">0</span> │\n",
              "├──────────────────────────────────────┼─────────────────────────────┼─────────────────┤\n",
              "│ dense_7 (<span style=\"color: #0087ff; text-decoration-color: #0087ff\">Dense</span>)                      │ (<span style=\"color: #00d7ff; text-decoration-color: #00d7ff\">None</span>, <span style=\"color: #00af00; text-decoration-color: #00af00\">5</span>)                   │           <span style=\"color: #00af00; text-decoration-color: #00af00\">1,285</span> │\n",
              "└──────────────────────────────────────┴─────────────────────────────┴─────────────────┘\n",
              "</pre>\n"
            ]
          },
          "metadata": {}
        },
        {
          "output_type": "display_data",
          "data": {
            "text/plain": [
              "\u001b[1m Total params: \u001b[0m\u001b[38;5;34m8,516,389\u001b[0m (32.49 MB)\n"
            ],
            "text/html": [
              "<pre style=\"white-space:pre;overflow-x:auto;line-height:normal;font-family:Menlo,'DejaVu Sans Mono',consolas,'Courier New',monospace\"><span style=\"font-weight: bold\"> Total params: </span><span style=\"color: #00af00; text-decoration-color: #00af00\">8,516,389</span> (32.49 MB)\n",
              "</pre>\n"
            ]
          },
          "metadata": {}
        },
        {
          "output_type": "display_data",
          "data": {
            "text/plain": [
              "\u001b[1m Trainable params: \u001b[0m\u001b[38;5;34m8,514,981\u001b[0m (32.48 MB)\n"
            ],
            "text/html": [
              "<pre style=\"white-space:pre;overflow-x:auto;line-height:normal;font-family:Menlo,'DejaVu Sans Mono',consolas,'Courier New',monospace\"><span style=\"font-weight: bold\"> Trainable params: </span><span style=\"color: #00af00; text-decoration-color: #00af00\">8,514,981</span> (32.48 MB)\n",
              "</pre>\n"
            ]
          },
          "metadata": {}
        },
        {
          "output_type": "display_data",
          "data": {
            "text/plain": [
              "\u001b[1m Non-trainable params: \u001b[0m\u001b[38;5;34m1,408\u001b[0m (5.50 KB)\n"
            ],
            "text/html": [
              "<pre style=\"white-space:pre;overflow-x:auto;line-height:normal;font-family:Menlo,'DejaVu Sans Mono',consolas,'Courier New',monospace\"><span style=\"font-weight: bold\"> Non-trainable params: </span><span style=\"color: #00af00; text-decoration-color: #00af00\">1,408</span> (5.50 KB)\n",
              "</pre>\n"
            ]
          },
          "metadata": {}
        }
      ]
    },
    {
      "cell_type": "markdown",
      "source": [
        "# training model & callback"
      ],
      "metadata": {
        "id": "vGxoPWcr1z1C"
      }
    },
    {
      "cell_type": "code",
      "source": [
        "early_stop = EarlyStopping(monitor='val_loss', patience=10, restore_best_weights=True)\n",
        "checkpoint = ModelCheckpoint('best_model.h5', monitor='val_accuracy', save_best_only=True)\n",
        "\n",
        "from tensorflow.keras.callbacks import ReduceLROnPlateau\n",
        "reduce_lr = ReduceLROnPlateau(\n",
        "    monitor='val_loss',\n",
        "    factor=0.5,\n",
        "    patience=5,\n",
        "    verbose=1,\n",
        "    min_lr=1e-6\n",
        ")\n",
        "\n",
        "history = model.fit(\n",
        "    train_gen,\n",
        "    validation_data=val_gen,\n",
        "    epochs=30,\n",
        "    callbacks=[early_stop, checkpoint]\n",
        ")\n"
      ],
      "metadata": {
        "colab": {
          "base_uri": "https://localhost:8080/"
        },
        "id": "RvNsqA73cK2X",
        "outputId": "9dfa462e-c3b1-4f4e-adee-442c8521f23b"
      },
      "execution_count": 35,
      "outputs": [
        {
          "output_type": "stream",
          "name": "stdout",
          "text": [
            "Epoch 1/30\n",
            "\u001b[1m114/114\u001b[0m \u001b[32m━━━━━━━━━━━━━━━━━━━━\u001b[0m\u001b[37m\u001b[0m \u001b[1m0s\u001b[0m 108ms/step - accuracy: 0.9717 - loss: 0.0897"
          ]
        },
        {
          "output_type": "stream",
          "name": "stderr",
          "text": [
            "WARNING:absl:You are saving your model as an HDF5 file via `model.save()` or `keras.saving.save_model(model)`. This file format is considered legacy. We recommend using instead the native Keras format, e.g. `model.save('my_model.keras')` or `keras.saving.save_model(model, 'my_model.keras')`. \n"
          ]
        },
        {
          "output_type": "stream",
          "name": "stdout",
          "text": [
            "\b\b\b\b\b\b\b\b\b\b\b\b\b\b\b\b\b\b\b\b\b\b\b\b\b\b\b\b\b\b\b\b\b\b\b\b\b\b\b\b\b\b\b\b\b\b\b\b\b\b\b\b\b\b\b\b\b\b\b\b\b\b\b\b\b\b\b\b\b\b\b\b\b\b\b\b\r\u001b[1m114/114\u001b[0m \u001b[32m━━━━━━━━━━━━━━━━━━━━\u001b[0m\u001b[37m\u001b[0m \u001b[1m14s\u001b[0m 122ms/step - accuracy: 0.9716 - loss: 0.0900 - val_accuracy: 0.8190 - val_loss: 0.7418\n",
            "Epoch 2/30\n",
            "\u001b[1m114/114\u001b[0m \u001b[32m━━━━━━━━━━━━━━━━━━━━\u001b[0m\u001b[37m\u001b[0m \u001b[1m13s\u001b[0m 116ms/step - accuracy: 0.9362 - loss: 0.1726 - val_accuracy: 0.8146 - val_loss: 0.7580\n",
            "Epoch 3/30\n",
            "\u001b[1m114/114\u001b[0m \u001b[32m━━━━━━━━━━━━━━━━━━━━\u001b[0m\u001b[37m\u001b[0m \u001b[1m13s\u001b[0m 115ms/step - accuracy: 0.9518 - loss: 0.1423 - val_accuracy: 0.7969 - val_loss: 0.7327\n",
            "Epoch 4/30\n",
            "\u001b[1m114/114\u001b[0m \u001b[32m━━━━━━━━━━━━━━━━━━━━\u001b[0m\u001b[37m\u001b[0m \u001b[1m0s\u001b[0m 107ms/step - accuracy: 0.9656 - loss: 0.1090"
          ]
        },
        {
          "output_type": "stream",
          "name": "stderr",
          "text": [
            "WARNING:absl:You are saving your model as an HDF5 file via `model.save()` or `keras.saving.save_model(model)`. This file format is considered legacy. We recommend using instead the native Keras format, e.g. `model.save('my_model.keras')` or `keras.saving.save_model(model, 'my_model.keras')`. \n"
          ]
        },
        {
          "output_type": "stream",
          "name": "stdout",
          "text": [
            "\b\b\b\b\b\b\b\b\b\b\b\b\b\b\b\b\b\b\b\b\b\b\b\b\b\b\b\b\b\b\b\b\b\b\b\b\b\b\b\b\b\b\b\b\b\b\b\b\b\b\b\b\b\b\b\b\b\b\b\b\b\b\b\b\b\b\b\b\b\b\b\b\b\b\b\b\r\u001b[1m114/114\u001b[0m \u001b[32m━━━━━━━━━━━━━━━━━━━━\u001b[0m\u001b[37m\u001b[0m \u001b[1m14s\u001b[0m 119ms/step - accuracy: 0.9656 - loss: 0.1092 - val_accuracy: 0.8344 - val_loss: 0.5906\n",
            "Epoch 5/30\n",
            "\u001b[1m114/114\u001b[0m \u001b[32m━━━━━━━━━━━━━━━━━━━━\u001b[0m\u001b[37m\u001b[0m \u001b[1m13s\u001b[0m 113ms/step - accuracy: 0.9632 - loss: 0.1003 - val_accuracy: 0.8300 - val_loss: 0.5935\n",
            "Epoch 6/30\n",
            "\u001b[1m114/114\u001b[0m \u001b[32m━━━━━━━━━━━━━━━━━━━━\u001b[0m\u001b[37m\u001b[0m \u001b[1m13s\u001b[0m 113ms/step - accuracy: 0.9682 - loss: 0.0844 - val_accuracy: 0.8079 - val_loss: 0.7493\n",
            "Epoch 7/30\n",
            "\u001b[1m114/114\u001b[0m \u001b[32m━━━━━━━━━━━━━━━━━━━━\u001b[0m\u001b[37m\u001b[0m \u001b[1m13s\u001b[0m 114ms/step - accuracy: 0.9758 - loss: 0.0866 - val_accuracy: 0.8278 - val_loss: 0.6880\n",
            "Epoch 8/30\n",
            "\u001b[1m114/114\u001b[0m \u001b[32m━━━━━━━━━━━━━━━━━━━━\u001b[0m\u001b[37m\u001b[0m \u001b[1m0s\u001b[0m 105ms/step - accuracy: 0.9815 - loss: 0.0532"
          ]
        },
        {
          "output_type": "stream",
          "name": "stderr",
          "text": [
            "WARNING:absl:You are saving your model as an HDF5 file via `model.save()` or `keras.saving.save_model(model)`. This file format is considered legacy. We recommend using instead the native Keras format, e.g. `model.save('my_model.keras')` or `keras.saving.save_model(model, 'my_model.keras')`. \n"
          ]
        },
        {
          "output_type": "stream",
          "name": "stdout",
          "text": [
            "\b\b\b\b\b\b\b\b\b\b\b\b\b\b\b\b\b\b\b\b\b\b\b\b\b\b\b\b\b\b\b\b\b\b\b\b\b\b\b\b\b\b\b\b\b\b\b\b\b\b\b\b\b\b\b\b\b\b\b\b\b\b\b\b\b\b\b\b\b\b\b\b\b\b\b\b\r\u001b[1m114/114\u001b[0m \u001b[32m━━━━━━━━━━━━━━━━━━━━\u001b[0m\u001b[37m\u001b[0m \u001b[1m14s\u001b[0m 119ms/step - accuracy: 0.9815 - loss: 0.0533 - val_accuracy: 0.8433 - val_loss: 0.5972\n",
            "Epoch 9/30\n",
            "\u001b[1m114/114\u001b[0m \u001b[32m━━━━━━━━━━━━━━━━━━━━\u001b[0m\u001b[37m\u001b[0m \u001b[1m0s\u001b[0m 105ms/step - accuracy: 0.9861 - loss: 0.0445"
          ]
        },
        {
          "output_type": "stream",
          "name": "stderr",
          "text": [
            "WARNING:absl:You are saving your model as an HDF5 file via `model.save()` or `keras.saving.save_model(model)`. This file format is considered legacy. We recommend using instead the native Keras format, e.g. `model.save('my_model.keras')` or `keras.saving.save_model(model, 'my_model.keras')`. \n"
          ]
        },
        {
          "output_type": "stream",
          "name": "stdout",
          "text": [
            "\b\b\b\b\b\b\b\b\b\b\b\b\b\b\b\b\b\b\b\b\b\b\b\b\b\b\b\b\b\b\b\b\b\b\b\b\b\b\b\b\b\b\b\b\b\b\b\b\b\b\b\b\b\b\b\b\b\b\b\b\b\b\b\b\b\b\b\b\b\b\b\b\b\b\b\b\r\u001b[1m114/114\u001b[0m \u001b[32m━━━━━━━━━━━━━━━━━━━━\u001b[0m\u001b[37m\u001b[0m \u001b[1m14s\u001b[0m 119ms/step - accuracy: 0.9860 - loss: 0.0446 - val_accuracy: 0.8565 - val_loss: 0.6805\n",
            "Epoch 10/30\n",
            "\u001b[1m114/114\u001b[0m \u001b[32m━━━━━━━━━━━━━━━━━━━━\u001b[0m\u001b[37m\u001b[0m \u001b[1m20s\u001b[0m 115ms/step - accuracy: 0.9876 - loss: 0.0408 - val_accuracy: 0.8322 - val_loss: 0.7103\n",
            "Epoch 11/30\n",
            "\u001b[1m114/114\u001b[0m \u001b[32m━━━━━━━━━━━━━━━━━━━━\u001b[0m\u001b[37m\u001b[0m \u001b[1m13s\u001b[0m 116ms/step - accuracy: 0.9753 - loss: 0.0821 - val_accuracy: 0.8433 - val_loss: 0.6939\n",
            "Epoch 12/30\n",
            "\u001b[1m114/114\u001b[0m \u001b[32m━━━━━━━━━━━━━━━━━━━━\u001b[0m\u001b[37m\u001b[0m \u001b[1m13s\u001b[0m 115ms/step - accuracy: 0.9844 - loss: 0.0511 - val_accuracy: 0.8565 - val_loss: 0.6737\n",
            "Epoch 13/30\n",
            "\u001b[1m114/114\u001b[0m \u001b[32m━━━━━━━━━━━━━━━━━━━━\u001b[0m\u001b[37m\u001b[0m \u001b[1m13s\u001b[0m 115ms/step - accuracy: 0.9825 - loss: 0.0550 - val_accuracy: 0.8543 - val_loss: 0.6920\n",
            "Epoch 14/30\n",
            "\u001b[1m114/114\u001b[0m \u001b[32m━━━━━━━━━━━━━━━━━━━━\u001b[0m\u001b[37m\u001b[0m \u001b[1m0s\u001b[0m 106ms/step - accuracy: 0.9846 - loss: 0.0506"
          ]
        },
        {
          "output_type": "stream",
          "name": "stderr",
          "text": [
            "WARNING:absl:You are saving your model as an HDF5 file via `model.save()` or `keras.saving.save_model(model)`. This file format is considered legacy. We recommend using instead the native Keras format, e.g. `model.save('my_model.keras')` or `keras.saving.save_model(model, 'my_model.keras')`. \n"
          ]
        },
        {
          "output_type": "stream",
          "name": "stdout",
          "text": [
            "\b\b\b\b\b\b\b\b\b\b\b\b\b\b\b\b\b\b\b\b\b\b\b\b\b\b\b\b\b\b\b\b\b\b\b\b\b\b\b\b\b\b\b\b\b\b\b\b\b\b\b\b\b\b\b\b\b\b\b\b\b\b\b\b\b\b\b\b\b\b\b\b\b\b\b\b\r\u001b[1m114/114\u001b[0m \u001b[32m━━━━━━━━━━━━━━━━━━━━\u001b[0m\u001b[37m\u001b[0m \u001b[1m13s\u001b[0m 118ms/step - accuracy: 0.9846 - loss: 0.0506 - val_accuracy: 0.8631 - val_loss: 0.8300\n"
          ]
        }
      ]
    },
    {
      "cell_type": "markdown",
      "source": [
        "# evaluasi model"
      ],
      "metadata": {
        "id": "eUuZOZd118kD"
      }
    },
    {
      "cell_type": "code",
      "source": [
        "final_train_acc = history.history['accuracy'][-1]\n",
        "final_val_acc = history.history['val_accuracy'][-1]\n",
        "\n",
        "print(f\"Final Training Accuracy: {final_train_acc * 100:.2f}%\")\n",
        "print(f\"Final Validation Accuracy: {final_val_acc * 100:.2f}%\")"
      ],
      "metadata": {
        "colab": {
          "base_uri": "https://localhost:8080/"
        },
        "id": "Q7D1vANJsgHr",
        "outputId": "0e3e0979-431b-476a-de2f-f8fc05a74d21"
      },
      "execution_count": 36,
      "outputs": [
        {
          "output_type": "stream",
          "name": "stdout",
          "text": [
            "Final Training Accuracy: 98.56%\n",
            "Final Validation Accuracy: 86.31%\n"
          ]
        }
      ]
    },
    {
      "cell_type": "code",
      "source": [
        "test_loss, test_acc = model.evaluate(test_gen)\n",
        "print(f\"Test Accuracy: {test_acc * 100:.2f}%\")"
      ],
      "metadata": {
        "colab": {
          "base_uri": "https://localhost:8080/"
        },
        "id": "HvOzyxSOsm2q",
        "outputId": "00a8d484-a101-4e53-a693-af7587545dd6"
      },
      "execution_count": 37,
      "outputs": [
        {
          "output_type": "stream",
          "name": "stdout",
          "text": [
            "\u001b[1m15/15\u001b[0m \u001b[32m━━━━━━━━━━━━━━━━━━━━\u001b[0m\u001b[37m\u001b[0m \u001b[1m1s\u001b[0m 68ms/step - accuracy: 0.8455 - loss: 0.5940\n",
            "Test Accuracy: 85.62%\n"
          ]
        }
      ]
    },
    {
      "cell_type": "markdown",
      "source": [
        "# visualisasi akurasi & loss"
      ],
      "metadata": {
        "id": "7V_VhA4R2AKa"
      }
    },
    {
      "cell_type": "code",
      "source": [
        "# Visualisasi Akurasi\n",
        "plt.figure(figsize=(12, 5))\n",
        "\n",
        "plt.subplot(1, 2, 1)\n",
        "plt.plot(history.history['accuracy'], label='Training Accuracy', color='blue')\n",
        "plt.plot(history.history['val_accuracy'], label='Validation Accuracy', color='green')\n",
        "plt.title('Training and Validation Accuracy')\n",
        "plt.xlabel('Epoch')\n",
        "plt.ylabel('Accuracy')\n",
        "plt.legend()\n",
        "plt.grid(True)\n",
        "\n",
        "# Visualisasi Loss\n",
        "plt.subplot(1, 2, 2)\n",
        "plt.plot(history.history['loss'], label='Training Loss', color='red')\n",
        "plt.plot(history.history['val_loss'], label='Validation Loss', color='orange')\n",
        "plt.title('Training and Validation Loss')\n",
        "plt.xlabel('Epoch')\n",
        "plt.ylabel('Loss')\n",
        "plt.legend()\n",
        "plt.grid(True)\n",
        "\n",
        "plt.tight_layout()\n",
        "plt.show()"
      ],
      "metadata": {
        "colab": {
          "base_uri": "https://localhost:8080/",
          "height": 507
        },
        "id": "hDAtaGfZcsCS",
        "outputId": "18e0975a-eeea-4e13-c8ef-f895ba306896"
      },
      "execution_count": 39,
      "outputs": [
        {
          "output_type": "display_data",
          "data": {
            "text/plain": [
              "<Figure size 1200x500 with 2 Axes>"
            ],
            "image/png": "[encoded data removed]"
          },
          "metadata": {}
        }
      ]
    },
    {
      "cell_type": "markdown",
      "source": [
        "**Insight:**\n",
        "* Training accuracy dan validation accuracy naik stabil ➔ model belajar dengan baik.\n",
        "* Training loss turun konsisten, validation loss stabil ➔ belum ada overfitting serius.\n",
        "* Ada sedikit fluktuasi di validation loss, wajar, tapi perlu diawasi jika training lebih lama.\n",
        "* Training 30 epoch cukup optimal. Training terlalu lama (50+ epoch) berisiko overfitting."
      ],
      "metadata": {
        "id": "aIS0bQxl5a65"
      }
    },
    {
      "cell_type": "markdown",
      "source": [
        "# simpan model dalam berbagai format"
      ],
      "metadata": {
        "id": "mWEfkZdC2EdT"
      }
    },
    {
      "cell_type": "markdown",
      "source": [
        "## SavedModel"
      ],
      "metadata": {
        "id": "lTJb5aqy2HTC"
      }
    },
    {
      "cell_type": "code",
      "source": [
        "#update filename to 'best_model.keras'\n",
        "model = tf.keras.models.load_model(\"best_model.keras\")\n",
        "\n",
        "#export ke format SavedModel\n",
        "model.export(\"saved_model\")\n",
        "\n",
        "print(\"✅ Model berhasil diekspor ke SavedModel (.pb format)\")"
      ],
      "metadata": {
        "colab": {
          "base_uri": "https://localhost:8080/"
        },
        "id": "XxJ7gaj0t1-B",
        "outputId": "0ac472cd-d965-4200-f080-97801db3126e"
      },
      "execution_count": 40,
      "outputs": [
        {
          "output_type": "stream",
          "name": "stdout",
          "text": [
            "Saved artifact at 'saved_model'. The following endpoints are available:\n",
            "\n",
            "* Endpoint 'serve'\n",
            "  args_0 (POSITIONAL_ONLY): TensorSpec(shape=(None, 180, 180, 3), dtype=tf.float32, name='input_layer')\n",
            "Output Type:\n",
            "  TensorSpec(shape=(None, 5), dtype=tf.float32, name=None)\n",
            "Captures:\n",
            "  134733229158864: TensorSpec(shape=(), dtype=tf.resource, name=None)\n",
            "  134733229157136: TensorSpec(shape=(), dtype=tf.resource, name=None)\n",
            "  134733229159824: TensorSpec(shape=(), dtype=tf.resource, name=None)\n",
            "  134733229160784: TensorSpec(shape=(), dtype=tf.resource, name=None)\n",
            "  134733229160016: TensorSpec(shape=(), dtype=tf.resource, name=None)\n",
            "  134733229161552: TensorSpec(shape=(), dtype=tf.resource, name=None)\n",
            "  134733229160976: TensorSpec(shape=(), dtype=tf.resource, name=None)\n",
            "  134733229162128: TensorSpec(shape=(), dtype=tf.resource, name=None)\n",
            "  134733229160208: TensorSpec(shape=(), dtype=tf.resource, name=None)\n",
            "  134733229159632: TensorSpec(shape=(), dtype=tf.resource, name=None)\n",
            "  134733256917648: TensorSpec(shape=(), dtype=tf.resource, name=None)\n",
            "  134733256919184: TensorSpec(shape=(), dtype=tf.resource, name=None)\n",
            "✅ Model berhasil diekspor ke SavedModel (.pb format)\n"
          ]
        }
      ]
    },
    {
      "cell_type": "markdown",
      "source": [
        "## TensorFlow-Lite (TF-Lite)"
      ],
      "metadata": {
        "id": "qya-MwkX2L4a"
      }
    },
    {
      "cell_type": "code",
      "source": [
        "#mengonversi model ke TensorFlow Lite\n",
        "converter = tf.lite.TFLiteConverter.from_keras_model(model)\n",
        "tflite_model = converter.convert()\n",
        "\n",
        "#menyimpan model TF-Lite\n",
        "with open('model.tflite', 'wb') as f:\n",
        "    f.write(tflite_model)\n",
        "\n",
        "print(\"Model telah disimpan dalam format TensorFlow Lite (TF-Lite).\")"
      ],
      "metadata": {
        "colab": {
          "base_uri": "https://localhost:8080/"
        },
        "id": "yrPxEcXqt-QR",
        "outputId": "aaa4f89c-9b17-4e25-c28e-24a53f8746f7"
      },
      "execution_count": 41,
      "outputs": [
        {
          "output_type": "stream",
          "name": "stdout",
          "text": [
            "Saved artifact at '/tmp/tmph3dhxmmk'. The following endpoints are available:\n",
            "\n",
            "* Endpoint 'serve'\n",
            "  args_0 (POSITIONAL_ONLY): TensorSpec(shape=(None, 180, 180, 3), dtype=tf.float32, name='input_layer')\n",
            "Output Type:\n",
            "  TensorSpec(shape=(None, 5), dtype=tf.float32, name=None)\n",
            "Captures:\n",
            "  134733229158864: TensorSpec(shape=(), dtype=tf.resource, name=None)\n",
            "  134733229157136: TensorSpec(shape=(), dtype=tf.resource, name=None)\n",
            "  134733229159824: TensorSpec(shape=(), dtype=tf.resource, name=None)\n",
            "  134733229160784: TensorSpec(shape=(), dtype=tf.resource, name=None)\n",
            "  134733229160016: TensorSpec(shape=(), dtype=tf.resource, name=None)\n",
            "  134733229161552: TensorSpec(shape=(), dtype=tf.resource, name=None)\n",
            "  134733229160976: TensorSpec(shape=(), dtype=tf.resource, name=None)\n",
            "  134733229162128: TensorSpec(shape=(), dtype=tf.resource, name=None)\n",
            "  134733229160208: TensorSpec(shape=(), dtype=tf.resource, name=None)\n",
            "  134733229159632: TensorSpec(shape=(), dtype=tf.resource, name=None)\n",
            "  134733256917648: TensorSpec(shape=(), dtype=tf.resource, name=None)\n",
            "  134733256919184: TensorSpec(shape=(), dtype=tf.resource, name=None)\n",
            "Model telah disimpan dalam format TensorFlow Lite (TF-Lite).\n"
          ]
        }
      ]
    },
    {
      "cell_type": "markdown",
      "source": [
        "## TensorFlow-JS (TF-JS)"
      ],
      "metadata": {
        "id": "s65TIJPZ2SVT"
      }
    },
    {
      "cell_type": "code",
      "source": [
        "#menyimpan model dalam format TensorFlow.js\n",
        "tfjs.converters.save_keras_model(model, 'model_tfjs')\n",
        "\n",
        "print(\"Model telah disimpan dalam format TensorFlow.js (TFJS).\")"
      ],
      "metadata": {
        "colab": {
          "base_uri": "https://localhost:8080/"
        },
        "id": "rs-TaHqduAP6",
        "outputId": "2595cde3-97eb-484a-b4e2-ccd65dd66ef7"
      },
      "execution_count": 42,
      "outputs": [
        {
          "output_type": "stream",
          "name": "stderr",
          "text": [
            "WARNING:absl:You are saving your model as an HDF5 file via `model.save()` or `keras.saving.save_model(model)`. This file format is considered legacy. We recommend using instead the native Keras format, e.g. `model.save('my_model.keras')` or `keras.saving.save_model(model, 'my_model.keras')`. \n"
          ]
        },
        {
          "output_type": "stream",
          "name": "stdout",
          "text": [
            "failed to lookup keras version from the file,\n",
            "    this is likely a weight only file\n",
            "Model telah disimpan dalam format TensorFlow.js (TFJS).\n"
          ]
        }
      ]
    },
    {
      "cell_type": "markdown",
      "source": [
        "# inference"
      ],
      "metadata": {
        "id": "QjlVOXHC2Y9T"
      }
    },
    {
      "cell_type": "markdown",
      "source": [
        "## SavedModel"
      ],
      "metadata": {
        "id": "3ExEqT542a2y"
      }
    },
    {
      "cell_type": "code",
      "source": [
        "# Load the SavedModel as an inference-only layer\n",
        "model_saved = tf.keras.layers.TFSMLayer('saved_model', call_endpoint='serving_default')\n",
        "\n",
        "# Generate input data with the correct shape (1, 180, 180, 3)\n",
        "# assuming your model expects images of size 180x180 with 3 color channels\n",
        "input_data = tf.random.normal([1, 180, 180, 3])\n",
        "\n",
        "# Perform inference\n",
        "infer_result = model_saved(input_data)\n",
        "\n",
        "# Print the inference result\n",
        "print(\"Inference result (SavedModel):\", infer_result)"
      ],
      "metadata": {
        "colab": {
          "base_uri": "https://localhost:8080/"
        },
        "id": "v7mPqmkCuLiJ",
        "outputId": "fdd2bcb4-dc2b-413e-9454-211561c075d4"
      },
      "execution_count": 43,
      "outputs": [
        {
          "output_type": "stream",
          "name": "stdout",
          "text": [
            "Inference result (SavedModel): {'output_0': <tf.Tensor: shape=(1, 5), dtype=float32, numpy=\n",
            "array([[1.7250634e-14, 3.0660804e-14, 1.2864562e-09, 1.0000000e+00,\n",
            "        2.8202826e-14]], dtype=float32)>}\n"
          ]
        }
      ]
    },
    {
      "cell_type": "markdown",
      "source": [
        "## TensorFlow-Lite (TF-Lite)"
      ],
      "metadata": {
        "id": "zk8dmtaz2e80"
      }
    },
    {
      "cell_type": "code",
      "source": [
        "#memuat model TensorFlow Lite\n",
        "interpreter = tf.lite.Interpreter(model_path=\"model.tflite\")\n",
        "interpreter.allocate_tensors()\n",
        "\n",
        "#menyediakan input data dan mempersiapkan inferensi\n",
        "input_details = interpreter.get_input_details()\n",
        "output_details = interpreter.get_output_details()\n",
        "\n",
        "input_data = np.random.random(input_details[0]['shape']).astype(np.float32)\n",
        "\n",
        "#menyediakan input untuk interpreter\n",
        "interpreter.set_tensor(input_details[0]['index'], input_data)\n",
        "\n",
        "#melakukan inferensi\n",
        "interpreter.invoke()\n",
        "\n",
        "#mengambil hasil inferensi\n",
        "output_data = interpreter.get_tensor(output_details[0]['index'])\n",
        "print(\"Hasil inferensi (TensorFlow Lite):\", output_data)"
      ],
      "metadata": {
        "colab": {
          "base_uri": "https://localhost:8080/"
        },
        "id": "uiubhqVDuT4q",
        "outputId": "9c388971-a4d4-4575-d032-66685b3180fe"
      },
      "execution_count": 44,
      "outputs": [
        {
          "output_type": "stream",
          "name": "stdout",
          "text": [
            "Hasil inferensi (TensorFlow Lite): [[1.1156857e-03 1.2411011e-04 1.7968507e-03 9.9685633e-01 1.0702296e-04]]\n"
          ]
        },
        {
          "output_type": "stream",
          "name": "stderr",
          "text": [
            "/usr/local/lib/python3.11/dist-packages/tensorflow/lite/python/interpreter.py:457: UserWarning:     Warning: tf.lite.Interpreter is deprecated and is scheduled for deletion in\n",
            "    TF 2.20. Please use the LiteRT interpreter from the ai_edge_litert package.\n",
            "    See the [migration guide](https://ai.google.dev/edge/litert/migration)\n",
            "    for details.\n",
            "    \n",
            "  warnings.warn(_INTERPRETER_DELETION_WARNING)\n"
          ]
        }
      ]
    }
  ]
}